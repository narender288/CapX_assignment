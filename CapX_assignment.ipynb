{
 "cells": [
  {
   "cell_type": "markdown",
   "id": "364bd06b-a6b7-46f9-9f08-bcc65f5370e3",
   "metadata": {},
   "source": [
    "## CAPX"
   ]
  },
  {
   "cell_type": "markdown",
   "id": "8f769f51-9dec-4032-9571-023f5caf817e",
   "metadata": {},
   "source": [
    "## Task - 1 -> Data Scraping -> Python Reddit API Wrapper i.e PRAW"
   ]
  },
  {
   "cell_type": "code",
   "execution_count": 1,
   "id": "211f2481-04f8-46b2-b9a1-528da2f917ee",
   "metadata": {},
   "outputs": [],
   "source": [
    "import praw"
   ]
  },
  {
   "cell_type": "code",
   "execution_count": 2,
   "id": "32102029-f073-41a7-be84-d6fbc5e4da73",
   "metadata": {},
   "outputs": [],
   "source": [
    "## using the credential to login my reddit account.\n",
    "id_number = 'VzvWxDgIRwgntoOiL-0MAg'  \n",
    "secret_number = 'GeXZwlOHE6DZNxhEn93z81N8UOsamA'  \n",
    "username = 'my_reddit_scraper:v1.0 (by /u/Narender_4087)'"
   ]
  },
  {
   "cell_type": "code",
   "execution_count": 3,
   "id": "4ed6fdc8-5374-4c82-a831-e07e47d96bff",
   "metadata": {},
   "outputs": [],
   "source": [
    "reddit = praw.Reddit(client_id=id_number,\n",
    "                     client_secret=secret_number,\n",
    "                     user_agent=username)\n",
    "\n",
    "# Im selecting stock subreddit to scrape data.\n",
    "subreddit = reddit.subreddit('stocks')  # you can Replace 'stocks' with any subreddit if you want like investing."
   ]
  },
  {
   "cell_type": "code",
   "execution_count": 4,
   "id": "63c4c08c-8e5f-43a2-8a5b-983784b0b40b",
   "metadata": {},
   "outputs": [
    {
     "name": "stdout",
     "output_type": "stream",
     "text": [
      "Title: Online stock recommadtions premium acct\n",
      "Upvotes: 0\n",
      "URL: https://www.reddit.com/r/stocks/comments/1h697ep/online_stock_recommadtions_premium_acct/\n",
      "Created: 1733291661.0\n",
      "Text: Hi guys, iam planning to purchase premium acct to. Get stocl recommadtions, and why its recommadated\n",
      " So will able to get a glimpse on how market works from expertise pov.\n",
      "Pls recommend the best stock recommendation app/site.\n",
      "\n",
      "Title: I Want to Hear Your Thoughts on the Qualities Intel’s Next CEO Should Have and Why\n",
      "Upvotes: 0\n",
      "URL: https://www.reddit.com/r/stocks/comments/1h691u7/i_want_to_hear_your_thoughts_on_the_qualities/\n",
      "Created: 1733291089.0\n",
      "Text: With Pat Gelsinger retiring, the company is once again searching for a CEO who can steer it through its challenges.\n",
      "\n",
      "Who do you think Intel needs next as CEO, and why? Should it be an insider with deep technical expertise or someone from outside with a fresh perspective? How do you think the leadership transition will unfold in the coming months/years?\n",
      "\n",
      "Here’s a quick summary of Intel’s past CEOs, their departures, and the criticisms they faced, for reference:  \n",
      "\n",
      "\n",
      "|**CEO**|**Predecessor's Reason for Departure**|**Public Criticism or Perceived Failures**|**Successor’s Key Attributes**|\n",
      "|:-|:-|:-|:-|\n",
      "|**Pat Gelsinger**|Bob Swan replaced due to lack of technical background|Struggled to regain process leadership; delays in 7nm; stiff competition from AMD and TSMC|Deep technical expertise, Intel veteran, proven leader at VMware|\n",
      "|**Bob Swan**|Brian Krzanich resigned after a policy violation|Failed to address manufacturing delays; lacked vision to compete with AMD/ARM-based chips|Stability-focused leader with strong financial acumen|\n",
      "|**Brian Krzanich**|Paul Otellini retired citing personal reasons|Poor handling of mobile market diversification; failed to anticipate ARM dominance|Manufacturing and operations expertise, Intel insider|\n",
      "|**Paul Otellini**|Craig Barrett retired as part of a planned transition|Missed opportunities in mobile chips, allowing Qualcomm and ARM to dominate|Strategic thinker, strong marketing and client focus|\n",
      "|**Craig Barrett**|Andrew Grove stepped down after transforming Intel|Slow diversification beyond PCs; overexposure to dot-com volatility|Deep engineering and manufacturing expertise|\n",
      "\n",
      "**Questions to consider**:\n",
      "\n",
      "* What should Intel prioritize in its next CEO: technical skills, operational expertise, or a focus on profitability?\n",
      "* What qualities or background should this leader have to address Intel's challenges?\n",
      "* How do you think this transition will impact Intel’s market position and stock performance?\n",
      "\n",
      "Let’s look back in the future to see how close we were!\n",
      "\n",
      "Title: Name a large-cap stock and its small-cap competitor \n",
      "Upvotes: 46\n",
      "URL: https://www.reddit.com/r/stocks/comments/1h62rcf/name_a_largecap_stock_and_its_smallcap_competitor/\n",
      "Created: 1733271696.0\n",
      "Text: I am always looking for small/mid-cap companies that have a similar business model or product as large cap competitors! \n",
      "\n",
      "I’ll start by naming a few (large-cap and small-cap) companies: \n",
      "\n",
      "- CRWD and S\n",
      "- COST and BJ\n",
      "- KR and SFM\n",
      "- CMG and CAVA \n",
      "- MNST and CELH\n",
      "- SBUX and BROS \n",
      "- Space X and RKLB (count it) \n",
      "\n",
      "I always love seeing the small caps slowly take a piece of the pie from the big boys. It’s what capitalism is all about. Especially fun to see when the little guy has a better product. I think this is the case for almost all of the companies I listed. If they aren’t flat out better, they offer something slightly different, or are better in a certain way. \n",
      "\n",
      "These smaller cap stocks are obviously a bigger risk, since a lot of them still are not making money, but the growth is very appealing. \n",
      "\n",
      "Would love to hear some comparisons like this and an explanation as to why you think the smaller company is better, or will continue to grow. \n",
      "\n",
      "Appreciate any responses! The stock market is a wonderful place for some competition. \n",
      "\n",
      "Also, it’s my cake-day!\n",
      "\n",
      "Title: Costco tariffs coming to a store near you! \n",
      "Upvotes: 0\n",
      "URL: https://www.reddit.com/r/stocks/comments/1h62nju/costco_tariffs_coming_to_a_store_near_you/\n",
      "Created: 1733271399.0\n",
      "Text: I love Costco, the stores are awesome and they have everything but i feel the stock has gotten out of control.\n",
      "\n",
      "The PE is 59! you are paying $59 for every $1 they earn. Thats just irresponsible investing.\n",
      "\n",
      "They are expanding across Asia but they are also facing stiff competition from home base Chinese companies. And one thing china is very good at: copying everyone else and selling stuff for cheap to eliminate competition. Im not saying Costco will fail but it wont be easy for them outside the US.\n",
      "\n",
      "Lastly we have the tariff situation. The proposition is a 10% tariff on Chinese goods and a 60% tariff on Chinese imports. This is a bit of a problem because Costco is the #12 importer in the US for 2024. Most common origin is China. Walmart got smart and started to protect themselves and reducing Chinese imports but Costco and their business model, will have a much harder time navigating with keeping the prices attractive.\n",
      "\n",
      "[https://oec.world/en/profile/company/costco-wholesale](https://oec.world/en/profile/company/costco-wholesale)\n",
      "\n",
      "[https://www.importgenius.com/importers/costco](https://www.importgenius.com/importers/costco)\n",
      "\n",
      "All their top trading partners are Chinese companies.\n",
      "\n",
      "Costco sells ALOT of electronics and appliances, its one of their biggest categories. If a TV cost $1000 today, staring Jan 20th(day one in office) it will cost $1600. Appliances going up $100's of dollars is hyper inflation and people are already stretched thin going into the holidays.\n",
      "\n",
      "Im really looking forward to this upcoming earnings release and how they will guide going forward. I guarantee you all the analyst questions will be about tariffs and profit margins.\n",
      "\n",
      "Costco's profit margin for fiscal 2023 was 2.6%. Costco's profit margin for 2024 was 2.9%. They can only raise the membership and prices so much before people starting shopping elsewhere. \n",
      "\n",
      "Title: \"Existencial question\" about common stocks.\n",
      "Upvotes: 0\n",
      "URL: https://www.reddit.com/r/stocks/comments/1h61ksu/existencial_question_about_common_stocks/\n",
      "Created: 1733268558.0\n",
      "Text: Let's suppose that a few financial analysts have evaluated the intrinsic value of the shares of company X. By \"intrinsic\", I mean not only the value of the company underlying assets (tangible and intangible) minus liabilities but also any other type of fundamental analysis. By consensus, the intrinsic value was estimated at $1 per share.\n",
      "\n",
      "However, the market value is $0.70. In other words, the stock is being sold at a discount. Is there any kind of arbitrage that forces the market price to converge towards the intrinsic value? I haven't yet found any reason that would encourage the increase in the market price beyond the usual speculation. Even if the stock has an intrinsic value of $1, shareholders cannot liquidate it outside the secondary market...\n",
      "\n",
      "Arbitrage in derivatives markets is easier to understand. Suppose the market price of gold is M. To secure this price in the future, an investor can buy a gold call option at a price P (strike price), where M = P on the date of purchase of the option. After some time, the market price of gold is M+N. Consequently, the option has gained a value of N, that is: it can be sold directly for N to another investor. Even if there is no liquidity in the derivatives market to sell the option for N, the investor can exercise the right to buy gold for P and sell the gold in the spot market for M+N. From this exercise, he would obtain the same N.\n",
      "\n",
      "In the equity market, I don't see a similar way for an investor to liquidate the intrinsic value of the stock. It doesn't make much sense either. So, there's only speculation left. If that's really the case, it's quite problematic. As a famous economist said: \"Markets can remain irrational longer than you can remain solvent.\"\n",
      "\n"
     ]
    }
   ],
   "source": [
    "# in this we are Scraping the latest 5 posts from the subreddit of stocks\n",
    "for submission in subreddit.new(limit=5):\n",
    "    print(f\"Title: {submission.title}\")\n",
    "    print(f\"Upvotes: {submission.score}\")\n",
    "    print(f\"URL: {submission.url}\")\n",
    "    print(f\"Created: {submission.created_utc}\")\n",
    "    print(f\"Text: {submission.selftext}\\n\")"
   ]
  },
  {
   "cell_type": "code",
   "execution_count": 5,
   "id": "ea9beec0-b45e-4f8a-a26e-1ccb072a5c36",
   "metadata": {},
   "outputs": [
    {
     "name": "stdout",
     "output_type": "stream",
     "text": [
      "Scraping batch 1/40...\n",
      "Scraping batch 2/40...\n",
      "Scraping batch 3/40...\n",
      "Scraping batch 4/40...\n",
      "Scraping batch 5/40...\n",
      "Scraping batch 6/40...\n",
      "Scraping batch 7/40...\n",
      "Scraping batch 8/40...\n",
      "Scraping batch 9/40...\n",
      "Scraping batch 10/40...\n",
      "Scraping batch 11/40...\n",
      "Scraping batch 12/40...\n",
      "Scraping batch 13/40...\n",
      "Scraping batch 14/40...\n",
      "Scraping batch 15/40...\n",
      "Scraping batch 16/40...\n",
      "Scraping batch 17/40...\n",
      "Scraping batch 18/40...\n",
      "Scraping batch 19/40...\n",
      "Scraping batch 20/40...\n",
      "Scraping batch 21/40...\n",
      "Scraping batch 22/40...\n",
      "Scraping batch 23/40...\n",
      "Scraping batch 24/40...\n",
      "Scraping batch 25/40...\n",
      "Scraping batch 26/40...\n",
      "Scraping batch 27/40...\n",
      "Scraping batch 28/40...\n",
      "Scraping batch 29/40...\n",
      "Scraping batch 30/40...\n",
      "Scraping batch 31/40...\n",
      "Scraping batch 32/40...\n",
      "Scraping batch 33/40...\n",
      "Scraping batch 34/40...\n",
      "Scraping batch 35/40...\n",
      "Scraping batch 36/40...\n",
      "Scraping batch 37/40...\n",
      "Scraping batch 38/40...\n",
      "Scraping batch 39/40...\n",
      "Scraping batch 40/40...\n",
      "Finished scraping 20000 posts. Data saved to reddit_stock.csv.\n"
     ]
    }
   ],
   "source": [
    "import csv\n",
    "import time\n",
    "from textblob import TextBlob\n",
    "\n",
    "num = 20000  # simply the Number of posts to scrape\n",
    "batch_size = 500  # and the Number of posts per batch\n",
    "output_file = 'reddit_stock.csv'\n",
    "\n",
    "## here if any csv file is there already with name reddit_stock then it will append there else it will create a newone and append there.\n",
    "with open(output_file, 'a', newline='', encoding='utf-8') as csvfile:\n",
    "    writer = csv.writer(csvfile)\n",
    "    \n",
    "    # Write headers to the CSV if the file is empty\n",
    "    if csvfile.tell() == 0:\n",
    "        writer.writerow(['Title', 'Upvotes', 'URL', 'Created', 'Text', 'Sentiment'])\n",
    "    \n",
    "    for i in range(num // batch_size):\n",
    "        print(f\"Scraping batch {i+1}/{num // batch_size}...\")\n",
    "        for submission in subreddit.new(limit = batch_size):\n",
    "            title = submission.title\n",
    "            upvotes = submission.score\n",
    "            url = submission.url\n",
    "            created = submission.created_utc\n",
    "            text = submission.selftext\n",
    "            \n",
    "            # also Perform sentiment analysis on the scrape data.\n",
    "            blob = TextBlob(text)\n",
    "            sentiment = blob.sentiment.polarity  \n",
    "            \n",
    "            # Write data to the CSV file\n",
    "            writer.writerow([title, upvotes, url, created, text, sentiment])\n",
    "        \n",
    "        # Wait to avoid hitting Reddit's rate limits\n",
    "        time.sleep(5)\n",
    "\n",
    "    print(f\"Finished scraping {num} posts. Data saved to {output_file}.\")"
   ]
  },
  {
   "cell_type": "markdown",
   "id": "74554766-bcea-443f-b0d5-a6ba2af206e8",
   "metadata": {},
   "source": [
    "## Exploratory Data Analysis (EDA)"
   ]
  },
  {
   "cell_type": "code",
   "execution_count": 6,
   "id": "1e0faa8a-48bb-4c50-909b-d5303e045969",
   "metadata": {},
   "outputs": [],
   "source": [
    "import pandas as pd"
   ]
  },
  {
   "cell_type": "code",
   "execution_count": 7,
   "id": "c9b0c0f1-383b-4c95-a9f2-06a5221e27e3",
   "metadata": {},
   "outputs": [
    {
     "data": {
      "text/html": [
       "<div>\n",
       "<style scoped>\n",
       "    .dataframe tbody tr th:only-of-type {\n",
       "        vertical-align: middle;\n",
       "    }\n",
       "\n",
       "    .dataframe tbody tr th {\n",
       "        vertical-align: top;\n",
       "    }\n",
       "\n",
       "    .dataframe thead th {\n",
       "        text-align: right;\n",
       "    }\n",
       "</style>\n",
       "<table border=\"1\" class=\"dataframe\">\n",
       "  <thead>\n",
       "    <tr style=\"text-align: right;\">\n",
       "      <th></th>\n",
       "      <th>Title</th>\n",
       "      <th>Upvotes</th>\n",
       "      <th>URL</th>\n",
       "      <th>Created</th>\n",
       "      <th>Text</th>\n",
       "      <th>Sentiment</th>\n",
       "    </tr>\n",
       "  </thead>\n",
       "  <tbody>\n",
       "    <tr>\n",
       "      <th>0</th>\n",
       "      <td>Online stock recommadtions premium acct</td>\n",
       "      <td>0</td>\n",
       "      <td>https://www.reddit.com/r/stocks/comments/1h697...</td>\n",
       "      <td>1.733292e+09</td>\n",
       "      <td>Hi guys, iam planning to purchase premium acct...</td>\n",
       "      <td>0.750000</td>\n",
       "    </tr>\n",
       "    <tr>\n",
       "      <th>1</th>\n",
       "      <td>I Want to Hear Your Thoughts on the Qualities ...</td>\n",
       "      <td>0</td>\n",
       "      <td>https://www.reddit.com/r/stocks/comments/1h691...</td>\n",
       "      <td>1.733291e+09</td>\n",
       "      <td>With Pat Gelsinger retiring, the company is on...</td>\n",
       "      <td>0.011094</td>\n",
       "    </tr>\n",
       "    <tr>\n",
       "      <th>2</th>\n",
       "      <td>Name a large-cap stock and its small-cap compe...</td>\n",
       "      <td>46</td>\n",
       "      <td>https://www.reddit.com/r/stocks/comments/1h62r...</td>\n",
       "      <td>1.733272e+09</td>\n",
       "      <td>I am always looking for small/mid-cap companie...</td>\n",
       "      <td>0.222484</td>\n",
       "    </tr>\n",
       "    <tr>\n",
       "      <th>3</th>\n",
       "      <td>Costco tariffs coming to a store near you!</td>\n",
       "      <td>0</td>\n",
       "      <td>https://www.reddit.com/r/stocks/comments/1h62n...</td>\n",
       "      <td>1.733271e+09</td>\n",
       "      <td>I love Costco, the stores are awesome and they...</td>\n",
       "      <td>0.121975</td>\n",
       "    </tr>\n",
       "    <tr>\n",
       "      <th>4</th>\n",
       "      <td>\"Existencial question\" about common stocks.</td>\n",
       "      <td>0</td>\n",
       "      <td>https://www.reddit.com/r/stocks/comments/1h61k...</td>\n",
       "      <td>1.733269e+09</td>\n",
       "      <td>Let's suppose that a few financial analysts ha...</td>\n",
       "      <td>0.039692</td>\n",
       "    </tr>\n",
       "  </tbody>\n",
       "</table>\n",
       "</div>"
      ],
      "text/plain": [
       "                                               Title  Upvotes  \\\n",
       "0            Online stock recommadtions premium acct        0   \n",
       "1  I Want to Hear Your Thoughts on the Qualities ...        0   \n",
       "2  Name a large-cap stock and its small-cap compe...       46   \n",
       "3        Costco tariffs coming to a store near you!         0   \n",
       "4        \"Existencial question\" about common stocks.        0   \n",
       "\n",
       "                                                 URL       Created  \\\n",
       "0  https://www.reddit.com/r/stocks/comments/1h697...  1.733292e+09   \n",
       "1  https://www.reddit.com/r/stocks/comments/1h691...  1.733291e+09   \n",
       "2  https://www.reddit.com/r/stocks/comments/1h62r...  1.733272e+09   \n",
       "3  https://www.reddit.com/r/stocks/comments/1h62n...  1.733271e+09   \n",
       "4  https://www.reddit.com/r/stocks/comments/1h61k...  1.733269e+09   \n",
       "\n",
       "                                                Text  Sentiment  \n",
       "0  Hi guys, iam planning to purchase premium acct...   0.750000  \n",
       "1  With Pat Gelsinger retiring, the company is on...   0.011094  \n",
       "2  I am always looking for small/mid-cap companie...   0.222484  \n",
       "3  I love Costco, the stores are awesome and they...   0.121975  \n",
       "4  Let's suppose that a few financial analysts ha...   0.039692  "
      ]
     },
     "execution_count": 7,
     "metadata": {},
     "output_type": "execute_result"
    }
   ],
   "source": [
    "df = pd.read_csv(\"reddit_stock.csv\")\n",
    "df.head()"
   ]
  },
  {
   "cell_type": "code",
   "execution_count": 8,
   "id": "726c4793-45e3-4bd4-bb11-1eb3b8d6c692",
   "metadata": {},
   "outputs": [
    {
     "data": {
      "text/plain": [
       "Index(['Title', 'Upvotes', 'URL', 'Created', 'Text', 'Sentiment'], dtype='object')"
      ]
     },
     "execution_count": 8,
     "metadata": {},
     "output_type": "execute_result"
    }
   ],
   "source": [
    "df.columns"
   ]
  },
  {
   "cell_type": "code",
   "execution_count": 9,
   "id": "92cd0bb8-fac0-4626-8d38-dc2c7a6f654a",
   "metadata": {},
   "outputs": [
    {
     "name": "stdout",
     "output_type": "stream",
     "text": [
      "<class 'pandas.core.frame.DataFrame'>\n",
      "RangeIndex: 20000 entries, 0 to 19999\n",
      "Data columns (total 6 columns):\n",
      " #   Column     Non-Null Count  Dtype  \n",
      "---  ------     --------------  -----  \n",
      " 0   Title      20000 non-null  object \n",
      " 1   Upvotes    20000 non-null  int64  \n",
      " 2   URL        20000 non-null  object \n",
      " 3   Created    20000 non-null  float64\n",
      " 4   Text       20000 non-null  object \n",
      " 5   Sentiment  20000 non-null  float64\n",
      "dtypes: float64(2), int64(1), object(3)\n",
      "memory usage: 937.6+ KB\n"
     ]
    }
   ],
   "source": [
    "df.info()"
   ]
  },
  {
   "cell_type": "code",
   "execution_count": 10,
   "id": "b3f6c9e8-6fe1-4c6a-92e4-ab914e76c0af",
   "metadata": {},
   "outputs": [
    {
     "name": "stdout",
     "output_type": "stream",
     "text": [
      "Number of duplicate rows: 16676\n"
     ]
    }
   ],
   "source": [
    "# Count the number of duplicate rows\n",
    "duplicate_count = df.duplicated().sum()\n",
    "print(f\"Number of duplicate rows: {duplicate_count}\")"
   ]
  },
  {
   "cell_type": "code",
   "execution_count": 11,
   "id": "d8f09bdd-6e70-4451-b2a4-2c3407354e4b",
   "metadata": {},
   "outputs": [
    {
     "name": "stdout",
     "output_type": "stream",
     "text": [
      "Duplicate rows after dropping: 0\n"
     ]
    }
   ],
   "source": [
    "# By the Dropping the duplicate rows\n",
    "df = df.drop_duplicates()\n",
    "print(f\"Duplicate rows after dropping: {df.duplicated().sum()}\")"
   ]
  },
  {
   "cell_type": "code",
   "execution_count": 12,
   "id": "931d7c4f-7aa7-4a86-8a92-4cfec5ab5da6",
   "metadata": {},
   "outputs": [
    {
     "name": "stdout",
     "output_type": "stream",
     "text": [
      "<class 'pandas.core.frame.DataFrame'>\n",
      "Index: 3324 entries, 0 to 19968\n",
      "Data columns (total 6 columns):\n",
      " #   Column     Non-Null Count  Dtype  \n",
      "---  ------     --------------  -----  \n",
      " 0   Title      3324 non-null   object \n",
      " 1   Upvotes    3324 non-null   int64  \n",
      " 2   URL        3324 non-null   object \n",
      " 3   Created    3324 non-null   float64\n",
      " 4   Text       3324 non-null   object \n",
      " 5   Sentiment  3324 non-null   float64\n",
      "dtypes: float64(2), int64(1), object(3)\n",
      "memory usage: 181.8+ KB\n"
     ]
    }
   ],
   "source": [
    "df.info()"
   ]
  },
  {
   "cell_type": "markdown",
   "id": "3c029a3f-5019-4a91-8add-32fcc4a0f042",
   "metadata": {},
   "source": [
    "we can see we have URL and Created columns that are not useful in prediction of stocks so we can remove them"
   ]
  },
  {
   "cell_type": "code",
   "execution_count": 13,
   "id": "cc7cb7d1-1b7c-40c8-b265-c47dad29757f",
   "metadata": {},
   "outputs": [],
   "source": [
    "df = df.drop(columns=['URL'])"
   ]
  },
  {
   "cell_type": "markdown",
   "id": "ce9585df-e332-427f-be32-ae78d3cc4c9e",
   "metadata": {},
   "source": [
    "Now check the missing data"
   ]
  },
  {
   "cell_type": "code",
   "execution_count": 14,
   "id": "05888122-1aa9-4d0b-8e50-6af87cb62a70",
   "metadata": {},
   "outputs": [
    {
     "name": "stdout",
     "output_type": "stream",
     "text": [
      "Title        0\n",
      "Upvotes      0\n",
      "Created      0\n",
      "Text         0\n",
      "Sentiment    0\n",
      "dtype: int64\n",
      "Percentage of missing data:\n",
      "Title        0.0\n",
      "Upvotes      0.0\n",
      "Created      0.0\n",
      "Text         0.0\n",
      "Sentiment    0.0\n",
      "dtype: float64\n"
     ]
    }
   ],
   "source": [
    "missing_data = df.isnull().sum()\n",
    "missing_data_percentage = (missing_data / len(df)) * 100\n",
    "print(missing_data)\n",
    "print(f\"Percentage of missing data:\\n{missing_data_percentage}\")"
   ]
  },
  {
   "cell_type": "code",
   "execution_count": 15,
   "id": "c63251a2-1b81-4775-b2a1-5214b4249a30",
   "metadata": {},
   "outputs": [
    {
     "data": {
      "text/plain": [
       "0        1.733292e+09\n",
       "1        1.733291e+09\n",
       "2        1.733272e+09\n",
       "3        1.733271e+09\n",
       "4        1.733269e+09\n",
       "             ...     \n",
       "19797    1.731042e+09\n",
       "19810    1.730993e+09\n",
       "19825    1.730839e+09\n",
       "19950    1.730113e+09\n",
       "19968    1.729875e+09\n",
       "Name: Created, Length: 3324, dtype: float64"
      ]
     },
     "execution_count": 15,
     "metadata": {},
     "output_type": "execute_result"
    }
   ],
   "source": [
    "df['Created']"
   ]
  },
  {
   "cell_type": "code",
   "execution_count": 16,
   "id": "ba877e51-7d32-446d-8eba-9d3debe77680",
   "metadata": {},
   "outputs": [
    {
     "data": {
      "text/plain": [
       "array([1.73329166e+09, 1.73329109e+09, 1.73327170e+09, 1.73327140e+09,\n",
       "       1.73326856e+09, 1.73326631e+09, 1.73326506e+09, 1.73326166e+09,\n",
       "       1.73325692e+09, 1.73325640e+09, 1.73323721e+09, 1.73323595e+09,\n",
       "       1.73322181e+09, 1.73319384e+09, 1.73318108e+09, 1.73317980e+09,\n",
       "       1.73317744e+09, 1.73317415e+09, 1.73317106e+09, 1.73317040e+09,\n",
       "       1.73315766e+09, 1.73315412e+09, 1.73315323e+09, 1.73315292e+09,\n",
       "       1.73315188e+09, 1.73314890e+09, 1.73314690e+09, 1.73313547e+09,\n",
       "       1.73313541e+09, 1.73312242e+09, 1.73308410e+09, 1.73307745e+09,\n",
       "       1.73305698e+09, 1.73304722e+09, 1.73304017e+09, 1.73303018e+09,\n",
       "       1.73298918e+09, 1.73298603e+09, 1.73296262e+09, 1.73295689e+09,\n",
       "       1.73293967e+09, 1.73291643e+09, 1.73290328e+09, 1.73289815e+09,\n",
       "       1.73289204e+09, 1.73288354e+09, 1.73287621e+09, 1.73285875e+09,\n",
       "       1.73284534e+09, 1.73281846e+09, 1.73281562e+09, 1.73281002e+09,\n",
       "       1.73280901e+09, 1.73280392e+09, 1.73279265e+09, 1.73278981e+09,\n",
       "       1.73278222e+09, 1.73277016e+09, 1.73275789e+09, 1.73275573e+09,\n",
       "       1.73273614e+09, 1.73273503e+09, 1.73271675e+09, 1.73271058e+09,\n",
       "       1.73270341e+09, 1.73270302e+09, 1.73270285e+09, 1.73268831e+09,\n",
       "       1.73266376e+09, 1.73265506e+09, 1.73265500e+09, 1.73265419e+09,\n",
       "       1.73265158e+09, 1.73264537e+09, 1.73263504e+09, 1.73263060e+09,\n",
       "       1.73263001e+09, 1.73261701e+09, 1.73261360e+09, 1.73260455e+09,\n",
       "       1.73257685e+09, 1.73257121e+09, 1.73255396e+09, 1.73254986e+09,\n",
       "       1.73253361e+09, 1.73253061e+09, 1.73252832e+09, 1.73248705e+09,\n",
       "       1.73248214e+09, 1.73247992e+09, 1.73247219e+09, 1.73247054e+09,\n",
       "       1.73243608e+09, 1.73240472e+09, 1.73239406e+09, 1.73238152e+09,\n",
       "       1.73238122e+09, 1.73238103e+09, 1.73236680e+09, 1.73235782e+09,\n",
       "       1.73231187e+09, 1.73231059e+09, 1.73231030e+09, 1.73230385e+09,\n",
       "       1.73230087e+09, 1.73229497e+09, 1.73229377e+09, 1.73229188e+09,\n",
       "       1.73228534e+09, 1.73228481e+09, 1.73228286e+09, 1.73228162e+09,\n",
       "       1.73227171e+09, 1.73227141e+09, 1.73226066e+09, 1.73225591e+09,\n",
       "       1.73224554e+09, 1.73224431e+09, 1.73223647e+09, 1.73222821e+09,\n",
       "       1.73222661e+09, 1.73222426e+09, 1.73221758e+09, 1.73221352e+09,\n",
       "       1.73220444e+09, 1.73220410e+09, 1.73220034e+09, 1.73219770e+09,\n",
       "       1.73219733e+09, 1.73219662e+09, 1.73218501e+09, 1.73217547e+09,\n",
       "       1.73216184e+09, 1.73213796e+09, 1.73213755e+09, 1.73211942e+09,\n",
       "       1.73211466e+09, 1.73211056e+09, 1.73210675e+09, 1.73209861e+09,\n",
       "       1.73209524e+09, 1.73209070e+09, 1.73208037e+09, 1.73206204e+09,\n",
       "       1.73206061e+09, 1.73205789e+09, 1.73205413e+09, 1.73204665e+09,\n",
       "       1.73204019e+09, 1.73203923e+09, 1.73203824e+09, 1.73203540e+09,\n",
       "       1.73203167e+09, 1.73202742e+09, 1.73202384e+09, 1.73201920e+09,\n",
       "       1.73201844e+09, 1.73201221e+09, 1.73199462e+09, 1.73197630e+09,\n",
       "       1.73197325e+09, 1.73197039e+09, 1.73197017e+09, 1.73195562e+09,\n",
       "       1.73195077e+09, 1.73194798e+09, 1.73194684e+09, 1.73194477e+09,\n",
       "       1.73194454e+09, 1.73194340e+09, 1.73194336e+09, 1.73194233e+09,\n",
       "       1.73192581e+09, 1.73190376e+09, 1.73189404e+09, 1.73188769e+09,\n",
       "       1.73187985e+09, 1.73187314e+09, 1.73185052e+09, 1.73180686e+09,\n",
       "       1.73179170e+09, 1.73178595e+09, 1.73177642e+09, 1.73177338e+09,\n",
       "       1.73175433e+09, 1.73175302e+09, 1.73175270e+09, 1.73172015e+09,\n",
       "       1.73171622e+09, 1.73170533e+09, 1.73170444e+09, 1.73169073e+09,\n",
       "       1.73167717e+09, 1.73167250e+09, 1.73166661e+09, 1.73166251e+09,\n",
       "       1.73165955e+09, 1.73165852e+09, 1.73164459e+09, 1.73163494e+09,\n",
       "       1.73162526e+09, 1.73162136e+09, 1.73162132e+09, 1.73161753e+09,\n",
       "       1.73161735e+09, 1.73161523e+09, 1.73161387e+09, 1.73160340e+09,\n",
       "       1.73160075e+09, 1.73158719e+09, 1.73158021e+09, 1.73156068e+09,\n",
       "       1.73154933e+09, 1.73153983e+09, 1.73153494e+09, 1.73153475e+09,\n",
       "       1.73153450e+09, 1.73153256e+09, 1.73151830e+09, 1.73150812e+09,\n",
       "       1.73150472e+09, 1.73149521e+09, 1.73149381e+09, 1.73148898e+09,\n",
       "       1.73147231e+09, 1.73145294e+09, 1.73145181e+09, 1.73144890e+09,\n",
       "       1.73144759e+09, 1.73144656e+09, 1.73144644e+09, 1.73144641e+09,\n",
       "       1.73144468e+09, 1.73144406e+09, 1.73144095e+09, 1.73144049e+09,\n",
       "       1.73143918e+09, 1.73143876e+09, 1.73143666e+09, 1.73143511e+09,\n",
       "       1.73143309e+09, 1.73143011e+09, 1.73142916e+09, 1.73142880e+09,\n",
       "       1.73142814e+09, 1.73142803e+09, 1.73142558e+09, 1.73142428e+09,\n",
       "       1.73142394e+09, 1.73141984e+09, 1.73141223e+09, 1.73140741e+09,\n",
       "       1.73137264e+09, 1.73136969e+09, 1.73135579e+09, 1.73135352e+09,\n",
       "       1.73135288e+09, 1.73134997e+09, 1.73134412e+09, 1.73134043e+09,\n",
       "       1.73134017e+09, 1.73133956e+09, 1.73133054e+09, 1.73132772e+09,\n",
       "       1.73132101e+09, 1.73130953e+09, 1.73130566e+09, 1.73129398e+09,\n",
       "       1.73129205e+09, 1.73127299e+09, 1.73125040e+09, 1.73120723e+09,\n",
       "       1.73120265e+09, 1.73120027e+09, 1.73119293e+09, 1.73117162e+09,\n",
       "       1.73116825e+09, 1.73116570e+09, 1.73116308e+09, 1.73115948e+09,\n",
       "       1.73114822e+09, 1.73114353e+09, 1.73110404e+09, 1.73109755e+09,\n",
       "       1.73109745e+09, 1.73109678e+09, 1.73109444e+09, 1.73108359e+09,\n",
       "       1.73107961e+09, 1.73107919e+09, 1.73107778e+09, 1.73106999e+09,\n",
       "       1.73106944e+09, 1.73106868e+09, 1.73106524e+09, 1.73106181e+09,\n",
       "       1.73105095e+09, 1.73104194e+09, 1.73103461e+09, 1.73102910e+09,\n",
       "       1.73102846e+09, 1.73102739e+09, 1.73102667e+09, 1.73102114e+09,\n",
       "       1.73101751e+09, 1.73101458e+09, 1.73101401e+09, 1.73100964e+09,\n",
       "       1.73100614e+09, 1.73100482e+09, 1.73099262e+09, 1.73097736e+09,\n",
       "       1.73097541e+09, 1.73094434e+09, 1.73093567e+09, 1.73092810e+09,\n",
       "       1.73092195e+09, 1.73091265e+09, 1.73090128e+09, 1.73089734e+09,\n",
       "       1.73089666e+09, 1.73088901e+09, 1.73086578e+09, 1.73084659e+09,\n",
       "       1.73084185e+09, 1.73083926e+09, 1.73083310e+09, 1.73082650e+09,\n",
       "       1.73082616e+09, 1.73082202e+09, 1.73082020e+09, 1.73081554e+09,\n",
       "       1.73080876e+09, 1.73080864e+09, 1.73080573e+09, 1.73080261e+09,\n",
       "       1.73080060e+09, 1.73078979e+09, 1.73078768e+09, 1.73078047e+09,\n",
       "       1.73077787e+09, 1.73075665e+09, 1.73073519e+09, 1.73073279e+09,\n",
       "       1.73073228e+09, 1.73073016e+09, 1.73072893e+09, 1.73071621e+09,\n",
       "       1.73066636e+09, 1.73065488e+09, 1.73065310e+09, 1.73065210e+09,\n",
       "       1.73058533e+09, 1.73057164e+09, 1.73056526e+09, 1.73056322e+09,\n",
       "       1.73055368e+09, 1.73054997e+09, 1.73053982e+09, 1.73053065e+09,\n",
       "       1.73051379e+09, 1.73050957e+09, 1.73049722e+09, 1.73049669e+09,\n",
       "       1.73049190e+09, 1.73049070e+09, 1.73048628e+09, 1.73047571e+09,\n",
       "       1.73046659e+09, 1.73046452e+09, 1.73045341e+09, 1.73043386e+09,\n",
       "       1.73042188e+09, 1.73041147e+09, 1.73040882e+09, 1.73040678e+09,\n",
       "       1.73040582e+09, 1.73040518e+09, 1.73039538e+09, 1.73039481e+09,\n",
       "       1.73039258e+09, 1.73039057e+09, 1.73038797e+09, 1.73038460e+09,\n",
       "       1.73038135e+09, 1.73038120e+09, 1.73038000e+09, 1.73037839e+09,\n",
       "       1.73037812e+09, 1.73036833e+09, 1.73036701e+09, 1.73036346e+09,\n",
       "       1.73035364e+09, 1.73034097e+09, 1.73033525e+09, 1.73032915e+09,\n",
       "       1.73032392e+09, 1.73031967e+09, 1.73031958e+09, 1.73031894e+09,\n",
       "       1.73031542e+09, 1.73031372e+09, 1.73031064e+09, 1.73030769e+09,\n",
       "       1.73030657e+09, 1.73030596e+09, 1.73030548e+09, 1.73030416e+09,\n",
       "       1.73030398e+09, 1.73029794e+09, 1.73029648e+09, 1.73029410e+09,\n",
       "       1.73029373e+09, 1.73029366e+09, 1.73029176e+09, 1.73028900e+09,\n",
       "       1.73028628e+09, 1.73028061e+09, 1.73027135e+09, 1.73026528e+09,\n",
       "       1.73026368e+09, 1.73026331e+09, 1.73023981e+09, 1.73023707e+09,\n",
       "       1.73023484e+09, 1.73023310e+09, 1.73023300e+09, 1.73023281e+09,\n",
       "       1.73023278e+09, 1.73023237e+09, 1.73022769e+09, 1.73022657e+09,\n",
       "       1.73022554e+09, 1.73022546e+09, 1.73022201e+09, 1.73022075e+09,\n",
       "       1.73021115e+09, 1.73020700e+09, 1.73020608e+09, 1.73020024e+09,\n",
       "       1.73019778e+09, 1.73019421e+09, 1.73015520e+09, 1.73014627e+09,\n",
       "       1.73014622e+09, 1.73013697e+09, 1.73013658e+09, 1.73013500e+09,\n",
       "       1.73012769e+09, 1.73012492e+09, 1.73011339e+09, 1.73010781e+09,\n",
       "       1.73004242e+09, 1.73004189e+09, 1.73003596e+09, 1.73003222e+09,\n",
       "       1.73001942e+09, 1.72998631e+09, 1.72997988e+09, 1.72997833e+09,\n",
       "       1.72996685e+09, 1.72995841e+09, 1.72995593e+09, 1.72995344e+09,\n",
       "       1.72994374e+09, 1.72993502e+09, 1.72989945e+09, 1.72987937e+09,\n",
       "       1.72987521e+09, 1.72986608e+09, 1.72986259e+09, 1.72985700e+09,\n",
       "       1.72984861e+09, 1.72983883e+09, 1.72983547e+09, 1.72982723e+09,\n",
       "       1.72980156e+09, 1.72979827e+09, 1.72979530e+09, 1.72979328e+09,\n",
       "       1.72979246e+09, 1.72979242e+09, 1.72979107e+09, 1.72979086e+09,\n",
       "       1.72978249e+09, 1.72978057e+09, 1.72977971e+09, 1.72977624e+09,\n",
       "       1.72977435e+09, 1.72977312e+09, 1.72976677e+09, 1.72976501e+09,\n",
       "       1.72976221e+09, 1.72973839e+09, 1.72973800e+09, 1.72973679e+09,\n",
       "       1.72973395e+09, 1.72971458e+09, 1.72969751e+09, 1.72968746e+09])"
      ]
     },
     "execution_count": 16,
     "metadata": {},
     "output_type": "execute_result"
    }
   ],
   "source": [
    "df['Created'].unique()"
   ]
  },
  {
   "cell_type": "code",
   "execution_count": 17,
   "id": "38ca5372-9371-4b61-afcb-bc2b261c99bf",
   "metadata": {},
   "outputs": [],
   "source": [
    "df['Created'] = pd.to_datetime(df['Created'], errors='coerce')"
   ]
  },
  {
   "cell_type": "code",
   "execution_count": 18,
   "id": "aa5cb2b0-dd1c-47fa-a9d7-d0cf7bead7f0",
   "metadata": {},
   "outputs": [
    {
     "data": {
      "text/html": [
       "<div>\n",
       "<style scoped>\n",
       "    .dataframe tbody tr th:only-of-type {\n",
       "        vertical-align: middle;\n",
       "    }\n",
       "\n",
       "    .dataframe tbody tr th {\n",
       "        vertical-align: top;\n",
       "    }\n",
       "\n",
       "    .dataframe thead th {\n",
       "        text-align: right;\n",
       "    }\n",
       "</style>\n",
       "<table border=\"1\" class=\"dataframe\">\n",
       "  <thead>\n",
       "    <tr style=\"text-align: right;\">\n",
       "      <th></th>\n",
       "      <th>Title</th>\n",
       "      <th>Upvotes</th>\n",
       "      <th>Created</th>\n",
       "      <th>Text</th>\n",
       "      <th>Sentiment</th>\n",
       "    </tr>\n",
       "  </thead>\n",
       "  <tbody>\n",
       "    <tr>\n",
       "      <th>0</th>\n",
       "      <td>Online stock recommadtions premium acct</td>\n",
       "      <td>0</td>\n",
       "      <td>1970-01-01 00:00:01.733291661</td>\n",
       "      <td>Hi guys, iam planning to purchase premium acct...</td>\n",
       "      <td>0.750000</td>\n",
       "    </tr>\n",
       "    <tr>\n",
       "      <th>1</th>\n",
       "      <td>I Want to Hear Your Thoughts on the Qualities ...</td>\n",
       "      <td>0</td>\n",
       "      <td>1970-01-01 00:00:01.733291089</td>\n",
       "      <td>With Pat Gelsinger retiring, the company is on...</td>\n",
       "      <td>0.011094</td>\n",
       "    </tr>\n",
       "    <tr>\n",
       "      <th>2</th>\n",
       "      <td>Name a large-cap stock and its small-cap compe...</td>\n",
       "      <td>46</td>\n",
       "      <td>1970-01-01 00:00:01.733271696</td>\n",
       "      <td>I am always looking for small/mid-cap companie...</td>\n",
       "      <td>0.222484</td>\n",
       "    </tr>\n",
       "    <tr>\n",
       "      <th>3</th>\n",
       "      <td>Costco tariffs coming to a store near you!</td>\n",
       "      <td>0</td>\n",
       "      <td>1970-01-01 00:00:01.733271399</td>\n",
       "      <td>I love Costco, the stores are awesome and they...</td>\n",
       "      <td>0.121975</td>\n",
       "    </tr>\n",
       "    <tr>\n",
       "      <th>4</th>\n",
       "      <td>\"Existencial question\" about common stocks.</td>\n",
       "      <td>0</td>\n",
       "      <td>1970-01-01 00:00:01.733268558</td>\n",
       "      <td>Let's suppose that a few financial analysts ha...</td>\n",
       "      <td>0.039692</td>\n",
       "    </tr>\n",
       "  </tbody>\n",
       "</table>\n",
       "</div>"
      ],
      "text/plain": [
       "                                               Title  Upvotes  \\\n",
       "0            Online stock recommadtions premium acct        0   \n",
       "1  I Want to Hear Your Thoughts on the Qualities ...        0   \n",
       "2  Name a large-cap stock and its small-cap compe...       46   \n",
       "3        Costco tariffs coming to a store near you!         0   \n",
       "4        \"Existencial question\" about common stocks.        0   \n",
       "\n",
       "                        Created  \\\n",
       "0 1970-01-01 00:00:01.733291661   \n",
       "1 1970-01-01 00:00:01.733291089   \n",
       "2 1970-01-01 00:00:01.733271696   \n",
       "3 1970-01-01 00:00:01.733271399   \n",
       "4 1970-01-01 00:00:01.733268558   \n",
       "\n",
       "                                                Text  Sentiment  \n",
       "0  Hi guys, iam planning to purchase premium acct...   0.750000  \n",
       "1  With Pat Gelsinger retiring, the company is on...   0.011094  \n",
       "2  I am always looking for small/mid-cap companie...   0.222484  \n",
       "3  I love Costco, the stores are awesome and they...   0.121975  \n",
       "4  Let's suppose that a few financial analysts ha...   0.039692  "
      ]
     },
     "execution_count": 18,
     "metadata": {},
     "output_type": "execute_result"
    }
   ],
   "source": [
    "df.head()"
   ]
  },
  {
   "cell_type": "code",
   "execution_count": 19,
   "id": "eb8e4092-60e5-4ddb-8c9c-ffdeb12c493b",
   "metadata": {},
   "outputs": [],
   "source": [
    "df['YearMonth'] = df['Created'].dt.to_period('M')"
   ]
  },
  {
   "cell_type": "code",
   "execution_count": 20,
   "id": "21092414-08dd-4514-80d6-e0962b56fee5",
   "metadata": {},
   "outputs": [
    {
     "data": {
      "text/html": [
       "<div>\n",
       "<style scoped>\n",
       "    .dataframe tbody tr th:only-of-type {\n",
       "        vertical-align: middle;\n",
       "    }\n",
       "\n",
       "    .dataframe tbody tr th {\n",
       "        vertical-align: top;\n",
       "    }\n",
       "\n",
       "    .dataframe thead th {\n",
       "        text-align: right;\n",
       "    }\n",
       "</style>\n",
       "<table border=\"1\" class=\"dataframe\">\n",
       "  <thead>\n",
       "    <tr style=\"text-align: right;\">\n",
       "      <th></th>\n",
       "      <th>Title</th>\n",
       "      <th>Upvotes</th>\n",
       "      <th>Created</th>\n",
       "      <th>Text</th>\n",
       "      <th>Sentiment</th>\n",
       "      <th>YearMonth</th>\n",
       "    </tr>\n",
       "  </thead>\n",
       "  <tbody>\n",
       "    <tr>\n",
       "      <th>0</th>\n",
       "      <td>Online stock recommadtions premium acct</td>\n",
       "      <td>0</td>\n",
       "      <td>1970-01-01 00:00:01.733291661</td>\n",
       "      <td>Hi guys, iam planning to purchase premium acct...</td>\n",
       "      <td>0.750000</td>\n",
       "      <td>1970-01</td>\n",
       "    </tr>\n",
       "    <tr>\n",
       "      <th>1</th>\n",
       "      <td>I Want to Hear Your Thoughts on the Qualities ...</td>\n",
       "      <td>0</td>\n",
       "      <td>1970-01-01 00:00:01.733291089</td>\n",
       "      <td>With Pat Gelsinger retiring, the company is on...</td>\n",
       "      <td>0.011094</td>\n",
       "      <td>1970-01</td>\n",
       "    </tr>\n",
       "    <tr>\n",
       "      <th>2</th>\n",
       "      <td>Name a large-cap stock and its small-cap compe...</td>\n",
       "      <td>46</td>\n",
       "      <td>1970-01-01 00:00:01.733271696</td>\n",
       "      <td>I am always looking for small/mid-cap companie...</td>\n",
       "      <td>0.222484</td>\n",
       "      <td>1970-01</td>\n",
       "    </tr>\n",
       "    <tr>\n",
       "      <th>3</th>\n",
       "      <td>Costco tariffs coming to a store near you!</td>\n",
       "      <td>0</td>\n",
       "      <td>1970-01-01 00:00:01.733271399</td>\n",
       "      <td>I love Costco, the stores are awesome and they...</td>\n",
       "      <td>0.121975</td>\n",
       "      <td>1970-01</td>\n",
       "    </tr>\n",
       "    <tr>\n",
       "      <th>4</th>\n",
       "      <td>\"Existencial question\" about common stocks.</td>\n",
       "      <td>0</td>\n",
       "      <td>1970-01-01 00:00:01.733268558</td>\n",
       "      <td>Let's suppose that a few financial analysts ha...</td>\n",
       "      <td>0.039692</td>\n",
       "      <td>1970-01</td>\n",
       "    </tr>\n",
       "  </tbody>\n",
       "</table>\n",
       "</div>"
      ],
      "text/plain": [
       "                                               Title  Upvotes  \\\n",
       "0            Online stock recommadtions premium acct        0   \n",
       "1  I Want to Hear Your Thoughts on the Qualities ...        0   \n",
       "2  Name a large-cap stock and its small-cap compe...       46   \n",
       "3        Costco tariffs coming to a store near you!         0   \n",
       "4        \"Existencial question\" about common stocks.        0   \n",
       "\n",
       "                        Created  \\\n",
       "0 1970-01-01 00:00:01.733291661   \n",
       "1 1970-01-01 00:00:01.733291089   \n",
       "2 1970-01-01 00:00:01.733271696   \n",
       "3 1970-01-01 00:00:01.733271399   \n",
       "4 1970-01-01 00:00:01.733268558   \n",
       "\n",
       "                                                Text  Sentiment YearMonth  \n",
       "0  Hi guys, iam planning to purchase premium acct...   0.750000   1970-01  \n",
       "1  With Pat Gelsinger retiring, the company is on...   0.011094   1970-01  \n",
       "2  I am always looking for small/mid-cap companie...   0.222484   1970-01  \n",
       "3  I love Costco, the stores are awesome and they...   0.121975   1970-01  \n",
       "4  Let's suppose that a few financial analysts ha...   0.039692   1970-01  "
      ]
     },
     "execution_count": 20,
     "metadata": {},
     "output_type": "execute_result"
    }
   ],
   "source": [
    "df.head()"
   ]
  },
  {
   "cell_type": "code",
   "execution_count": 21,
   "id": "95847542-3c69-47cf-bcda-3a29c15a2fc0",
   "metadata": {},
   "outputs": [],
   "source": [
    "from wordcloud import WordCloud"
   ]
  },
  {
   "cell_type": "code",
   "execution_count": 22,
   "id": "d8c09ff2-3406-4519-9eb1-99897b50672a",
   "metadata": {},
   "outputs": [],
   "source": [
    "wordcloud = WordCloud(width=800, height=400).generate(\" \".join(df['Text'])) # Most Frequent Words in text"
   ]
  },
  {
   "cell_type": "code",
   "execution_count": 23,
   "id": "24acf146-4084-48e9-a4b6-e920f79e83d3",
   "metadata": {},
   "outputs": [],
   "source": [
    "import matplotlib.pyplot as plt"
   ]
  },
  {
   "cell_type": "code",
   "execution_count": 24,
   "id": "08983259-c33d-4447-b8e8-871576a260ae",
   "metadata": {},
   "outputs": [
    {
     "data": {
      "image/png": "[encoded data removed]",
      "text/plain": [
       "<Figure size 640x480 with 1 Axes>"
      ]
     },
     "metadata": {},
     "output_type": "display_data"
    }
   ],
   "source": [
    "plt.imshow(wordcloud, interpolation='bilinear')\n",
    "plt.axis('off')\n",
    "plt.show()"
   ]
  },
  {
   "cell_type": "markdown",
   "id": "4ca3e3f5-50fd-4d03-b773-935986f22dd3",
   "metadata": {},
   "source": [
    "## Task- 2 ->  Data Analysis"
   ]
  },
  {
   "cell_type": "code",
   "execution_count": 25,
   "id": "23331506-2ed5-4ecf-8b38-b7f311091eab",
   "metadata": {},
   "outputs": [],
   "source": [
    "import re\n",
    "import nltk\n",
    "from nltk.corpus import stopwords"
   ]
  },
  {
   "cell_type": "code",
   "execution_count": 26,
   "id": "7a8b0747-9e54-4a41-a419-e211fd3bb196",
   "metadata": {},
   "outputs": [],
   "source": [
    "def clean_text(text):\n",
    "    text = re.sub(r'http\\S+', '', text)  # Removing URLs\n",
    "    text = re.sub(r'[^a-zA-Z\\s]', '', text)  # Removing non-alphabetic characters\n",
    "    text = text.lower()  # here we are Converting the text to lowercase\n",
    "    text = ' '.join([word for word in text.split() if word not in stopwords.words('english')])  # Removing stop words\n",
    "    return text\n",
    "\n",
    "# cleaning the text column\n",
    "df['Cleaned_Text'] = df['Text'].apply(clean_text)"
   ]
  },
  {
   "cell_type": "code",
   "execution_count": 27,
   "id": "b27a5325-e9a1-410e-ac6b-02d65068381b",
   "metadata": {},
   "outputs": [
    {
     "data": {
      "text/html": [
       "<div>\n",
       "<style scoped>\n",
       "    .dataframe tbody tr th:only-of-type {\n",
       "        vertical-align: middle;\n",
       "    }\n",
       "\n",
       "    .dataframe tbody tr th {\n",
       "        vertical-align: top;\n",
       "    }\n",
       "\n",
       "    .dataframe thead th {\n",
       "        text-align: right;\n",
       "    }\n",
       "</style>\n",
       "<table border=\"1\" class=\"dataframe\">\n",
       "  <thead>\n",
       "    <tr style=\"text-align: right;\">\n",
       "      <th></th>\n",
       "      <th>Title</th>\n",
       "      <th>Upvotes</th>\n",
       "      <th>Created</th>\n",
       "      <th>Text</th>\n",
       "      <th>Sentiment</th>\n",
       "      <th>YearMonth</th>\n",
       "      <th>Cleaned_Text</th>\n",
       "    </tr>\n",
       "  </thead>\n",
       "  <tbody>\n",
       "    <tr>\n",
       "      <th>0</th>\n",
       "      <td>Online stock recommadtions premium acct</td>\n",
       "      <td>0</td>\n",
       "      <td>1970-01-01 00:00:01.733291661</td>\n",
       "      <td>Hi guys, iam planning to purchase premium acct...</td>\n",
       "      <td>0.750000</td>\n",
       "      <td>1970-01</td>\n",
       "      <td>hi guys iam planning purchase premium acct get...</td>\n",
       "    </tr>\n",
       "    <tr>\n",
       "      <th>1</th>\n",
       "      <td>I Want to Hear Your Thoughts on the Qualities ...</td>\n",
       "      <td>0</td>\n",
       "      <td>1970-01-01 00:00:01.733291089</td>\n",
       "      <td>With Pat Gelsinger retiring, the company is on...</td>\n",
       "      <td>0.011094</td>\n",
       "      <td>1970-01</td>\n",
       "      <td>pat gelsinger retiring company searching ceo s...</td>\n",
       "    </tr>\n",
       "    <tr>\n",
       "      <th>2</th>\n",
       "      <td>Name a large-cap stock and its small-cap compe...</td>\n",
       "      <td>46</td>\n",
       "      <td>1970-01-01 00:00:01.733271696</td>\n",
       "      <td>I am always looking for small/mid-cap companie...</td>\n",
       "      <td>0.222484</td>\n",
       "      <td>1970-01</td>\n",
       "      <td>always looking smallmidcap companies similar b...</td>\n",
       "    </tr>\n",
       "    <tr>\n",
       "      <th>3</th>\n",
       "      <td>Costco tariffs coming to a store near you!</td>\n",
       "      <td>0</td>\n",
       "      <td>1970-01-01 00:00:01.733271399</td>\n",
       "      <td>I love Costco, the stores are awesome and they...</td>\n",
       "      <td>0.121975</td>\n",
       "      <td>1970-01</td>\n",
       "      <td>love costco stores awesome everything feel sto...</td>\n",
       "    </tr>\n",
       "    <tr>\n",
       "      <th>4</th>\n",
       "      <td>\"Existencial question\" about common stocks.</td>\n",
       "      <td>0</td>\n",
       "      <td>1970-01-01 00:00:01.733268558</td>\n",
       "      <td>Let's suppose that a few financial analysts ha...</td>\n",
       "      <td>0.039692</td>\n",
       "      <td>1970-01</td>\n",
       "      <td>lets suppose financial analysts evaluated intr...</td>\n",
       "    </tr>\n",
       "  </tbody>\n",
       "</table>\n",
       "</div>"
      ],
      "text/plain": [
       "                                               Title  Upvotes  \\\n",
       "0            Online stock recommadtions premium acct        0   \n",
       "1  I Want to Hear Your Thoughts on the Qualities ...        0   \n",
       "2  Name a large-cap stock and its small-cap compe...       46   \n",
       "3        Costco tariffs coming to a store near you!         0   \n",
       "4        \"Existencial question\" about common stocks.        0   \n",
       "\n",
       "                        Created  \\\n",
       "0 1970-01-01 00:00:01.733291661   \n",
       "1 1970-01-01 00:00:01.733291089   \n",
       "2 1970-01-01 00:00:01.733271696   \n",
       "3 1970-01-01 00:00:01.733271399   \n",
       "4 1970-01-01 00:00:01.733268558   \n",
       "\n",
       "                                                Text  Sentiment YearMonth  \\\n",
       "0  Hi guys, iam planning to purchase premium acct...   0.750000   1970-01   \n",
       "1  With Pat Gelsinger retiring, the company is on...   0.011094   1970-01   \n",
       "2  I am always looking for small/mid-cap companie...   0.222484   1970-01   \n",
       "3  I love Costco, the stores are awesome and they...   0.121975   1970-01   \n",
       "4  Let's suppose that a few financial analysts ha...   0.039692   1970-01   \n",
       "\n",
       "                                        Cleaned_Text  \n",
       "0  hi guys iam planning purchase premium acct get...  \n",
       "1  pat gelsinger retiring company searching ceo s...  \n",
       "2  always looking smallmidcap companies similar b...  \n",
       "3  love costco stores awesome everything feel sto...  \n",
       "4  lets suppose financial analysts evaluated intr...  "
      ]
     },
     "execution_count": 27,
     "metadata": {},
     "output_type": "execute_result"
    }
   ],
   "source": [
    "df.head()"
   ]
  },
  {
   "cell_type": "code",
   "execution_count": 28,
   "id": "eaba8609-8fff-4762-b475-1d908330f1ef",
   "metadata": {},
   "outputs": [],
   "source": [
    "from textblob import TextBlob"
   ]
  },
  {
   "cell_type": "code",
   "execution_count": 29,
   "id": "5ab85552-5731-4a5d-8d3d-3a1a59d87d68",
   "metadata": {},
   "outputs": [],
   "source": [
    "def get_sentiment(text):\n",
    "    analysis = TextBlob(text)\n",
    "    return analysis.sentiment.polarity"
   ]
  },
  {
   "cell_type": "code",
   "execution_count": 30,
   "id": "87a60013-9734-495d-a26c-e0f6fcfb9f53",
   "metadata": {},
   "outputs": [],
   "source": [
    "# here we are Applying sentiment polarity to the 'Cleaned_Text' column and adding one more column to df.\n",
    "df['Sentiment_Polarity'] = df['Cleaned_Text'].apply(get_sentiment)"
   ]
  },
  {
   "cell_type": "code",
   "execution_count": 31,
   "id": "3fce763b-d473-4651-9a68-346ada8e9b9b",
   "metadata": {},
   "outputs": [
    {
     "data": {
      "text/html": [
       "<div>\n",
       "<style scoped>\n",
       "    .dataframe tbody tr th:only-of-type {\n",
       "        vertical-align: middle;\n",
       "    }\n",
       "\n",
       "    .dataframe tbody tr th {\n",
       "        vertical-align: top;\n",
       "    }\n",
       "\n",
       "    .dataframe thead th {\n",
       "        text-align: right;\n",
       "    }\n",
       "</style>\n",
       "<table border=\"1\" class=\"dataframe\">\n",
       "  <thead>\n",
       "    <tr style=\"text-align: right;\">\n",
       "      <th></th>\n",
       "      <th>Title</th>\n",
       "      <th>Upvotes</th>\n",
       "      <th>Created</th>\n",
       "      <th>Text</th>\n",
       "      <th>Sentiment</th>\n",
       "      <th>YearMonth</th>\n",
       "      <th>Cleaned_Text</th>\n",
       "      <th>Sentiment_Polarity</th>\n",
       "    </tr>\n",
       "  </thead>\n",
       "  <tbody>\n",
       "    <tr>\n",
       "      <th>0</th>\n",
       "      <td>Online stock recommadtions premium acct</td>\n",
       "      <td>0</td>\n",
       "      <td>1970-01-01 00:00:01.733291661</td>\n",
       "      <td>Hi guys, iam planning to purchase premium acct...</td>\n",
       "      <td>0.750000</td>\n",
       "      <td>1970-01</td>\n",
       "      <td>hi guys iam planning purchase premium acct get...</td>\n",
       "      <td>0.750000</td>\n",
       "    </tr>\n",
       "    <tr>\n",
       "      <th>1</th>\n",
       "      <td>I Want to Hear Your Thoughts on the Qualities ...</td>\n",
       "      <td>0</td>\n",
       "      <td>1970-01-01 00:00:01.733291089</td>\n",
       "      <td>With Pat Gelsinger retiring, the company is on...</td>\n",
       "      <td>0.011094</td>\n",
       "      <td>1970-01</td>\n",
       "      <td>pat gelsinger retiring company searching ceo s...</td>\n",
       "      <td>0.018669</td>\n",
       "    </tr>\n",
       "    <tr>\n",
       "      <th>2</th>\n",
       "      <td>Name a large-cap stock and its small-cap compe...</td>\n",
       "      <td>46</td>\n",
       "      <td>1970-01-01 00:00:01.733271696</td>\n",
       "      <td>I am always looking for small/mid-cap companie...</td>\n",
       "      <td>0.222484</td>\n",
       "      <td>1970-01</td>\n",
       "      <td>always looking smallmidcap companies similar b...</td>\n",
       "      <td>0.193912</td>\n",
       "    </tr>\n",
       "    <tr>\n",
       "      <th>3</th>\n",
       "      <td>Costco tariffs coming to a store near you!</td>\n",
       "      <td>0</td>\n",
       "      <td>1970-01-01 00:00:01.733271399</td>\n",
       "      <td>I love Costco, the stores are awesome and they...</td>\n",
       "      <td>0.121975</td>\n",
       "      <td>1970-01</td>\n",
       "      <td>love costco stores awesome everything feel sto...</td>\n",
       "      <td>0.103333</td>\n",
       "    </tr>\n",
       "    <tr>\n",
       "      <th>4</th>\n",
       "      <td>\"Existencial question\" about common stocks.</td>\n",
       "      <td>0</td>\n",
       "      <td>1970-01-01 00:00:01.733268558</td>\n",
       "      <td>Let's suppose that a few financial analysts ha...</td>\n",
       "      <td>0.039692</td>\n",
       "      <td>1970-01</td>\n",
       "      <td>lets suppose financial analysts evaluated intr...</td>\n",
       "      <td>0.082701</td>\n",
       "    </tr>\n",
       "  </tbody>\n",
       "</table>\n",
       "</div>"
      ],
      "text/plain": [
       "                                               Title  Upvotes  \\\n",
       "0            Online stock recommadtions premium acct        0   \n",
       "1  I Want to Hear Your Thoughts on the Qualities ...        0   \n",
       "2  Name a large-cap stock and its small-cap compe...       46   \n",
       "3        Costco tariffs coming to a store near you!         0   \n",
       "4        \"Existencial question\" about common stocks.        0   \n",
       "\n",
       "                        Created  \\\n",
       "0 1970-01-01 00:00:01.733291661   \n",
       "1 1970-01-01 00:00:01.733291089   \n",
       "2 1970-01-01 00:00:01.733271696   \n",
       "3 1970-01-01 00:00:01.733271399   \n",
       "4 1970-01-01 00:00:01.733268558   \n",
       "\n",
       "                                                Text  Sentiment YearMonth  \\\n",
       "0  Hi guys, iam planning to purchase premium acct...   0.750000   1970-01   \n",
       "1  With Pat Gelsinger retiring, the company is on...   0.011094   1970-01   \n",
       "2  I am always looking for small/mid-cap companie...   0.222484   1970-01   \n",
       "3  I love Costco, the stores are awesome and they...   0.121975   1970-01   \n",
       "4  Let's suppose that a few financial analysts ha...   0.039692   1970-01   \n",
       "\n",
       "                                        Cleaned_Text  Sentiment_Polarity  \n",
       "0  hi guys iam planning purchase premium acct get...            0.750000  \n",
       "1  pat gelsinger retiring company searching ceo s...            0.018669  \n",
       "2  always looking smallmidcap companies similar b...            0.193912  \n",
       "3  love costco stores awesome everything feel sto...            0.103333  \n",
       "4  lets suppose financial analysts evaluated intr...            0.082701  "
      ]
     },
     "execution_count": 31,
     "metadata": {},
     "output_type": "execute_result"
    }
   ],
   "source": [
    "df.head()"
   ]
  },
  {
   "cell_type": "code",
   "execution_count": 32,
   "id": "1416ecb0-d8a0-4d46-9694-b11be514f9b9",
   "metadata": {},
   "outputs": [],
   "source": [
    "## here we are adding one more column named sentiment_label to df based on sentiment_Polarity.\n",
    "df['Sentiment-TB'] = df['Sentiment_Polarity'].apply(lambda x: 'Positive' if x > 0 else ('Negative' if x < 0 else 'Neutral'))"
   ]
  },
  {
   "cell_type": "code",
   "execution_count": 33,
   "id": "b917b8be-19be-4576-bea6-866285338a05",
   "metadata": {},
   "outputs": [
    {
     "data": {
      "image/png": "[encoded data removed]",
      "text/plain": [
       "<Figure size 640x480 with 1 Axes>"
      ]
     },
     "metadata": {},
     "output_type": "display_data"
    },
    {
     "name": "stdout",
     "output_type": "stream",
     "text": [
      "Sentiment-TB\n",
      "Positive    2649\n",
      "Negative     620\n",
      "Neutral       55\n",
      "Name: count, dtype: int64\n"
     ]
    }
   ],
   "source": [
    "import matplotlib.pyplot as plt\n",
    "import seaborn as sns\n",
    "\n",
    "# Count plot for Sentiment distribution\n",
    "sns.countplot(data=df, x='Sentiment-TB', palette='Set2')\n",
    "plt.title('Distribution of Sentiment Labels')\n",
    "plt.show()\n",
    "\n",
    "print(df['Sentiment-TB'].value_counts())"
   ]
  },
  {
   "cell_type": "markdown",
   "id": "ddc7365b-64de-4ba3-b657-02d5270a633c",
   "metadata": {},
   "source": [
    "We can see that we have 2632 positive and 633 negative and 82 neutral."
   ]
  },
  {
   "cell_type": "code",
   "execution_count": 34,
   "id": "f080cd9b-996d-484f-b530-84105da5c2f6",
   "metadata": {},
   "outputs": [
    {
     "data": {
      "text/html": [
       "<div>\n",
       "<style scoped>\n",
       "    .dataframe tbody tr th:only-of-type {\n",
       "        vertical-align: middle;\n",
       "    }\n",
       "\n",
       "    .dataframe tbody tr th {\n",
       "        vertical-align: top;\n",
       "    }\n",
       "\n",
       "    .dataframe thead th {\n",
       "        text-align: right;\n",
       "    }\n",
       "</style>\n",
       "<table border=\"1\" class=\"dataframe\">\n",
       "  <thead>\n",
       "    <tr style=\"text-align: right;\">\n",
       "      <th></th>\n",
       "      <th>Title</th>\n",
       "      <th>Upvotes</th>\n",
       "      <th>Created</th>\n",
       "      <th>Text</th>\n",
       "      <th>Sentiment</th>\n",
       "      <th>YearMonth</th>\n",
       "      <th>Cleaned_Text</th>\n",
       "      <th>Sentiment_Polarity</th>\n",
       "      <th>Sentiment-TB</th>\n",
       "    </tr>\n",
       "  </thead>\n",
       "  <tbody>\n",
       "    <tr>\n",
       "      <th>0</th>\n",
       "      <td>Online stock recommadtions premium acct</td>\n",
       "      <td>0</td>\n",
       "      <td>1970-01-01 00:00:01.733291661</td>\n",
       "      <td>Hi guys, iam planning to purchase premium acct...</td>\n",
       "      <td>0.750000</td>\n",
       "      <td>1970-01</td>\n",
       "      <td>hi guys iam planning purchase premium acct get...</td>\n",
       "      <td>0.750000</td>\n",
       "      <td>Positive</td>\n",
       "    </tr>\n",
       "    <tr>\n",
       "      <th>1</th>\n",
       "      <td>I Want to Hear Your Thoughts on the Qualities ...</td>\n",
       "      <td>0</td>\n",
       "      <td>1970-01-01 00:00:01.733291089</td>\n",
       "      <td>With Pat Gelsinger retiring, the company is on...</td>\n",
       "      <td>0.011094</td>\n",
       "      <td>1970-01</td>\n",
       "      <td>pat gelsinger retiring company searching ceo s...</td>\n",
       "      <td>0.018669</td>\n",
       "      <td>Positive</td>\n",
       "    </tr>\n",
       "    <tr>\n",
       "      <th>2</th>\n",
       "      <td>Name a large-cap stock and its small-cap compe...</td>\n",
       "      <td>46</td>\n",
       "      <td>1970-01-01 00:00:01.733271696</td>\n",
       "      <td>I am always looking for small/mid-cap companie...</td>\n",
       "      <td>0.222484</td>\n",
       "      <td>1970-01</td>\n",
       "      <td>always looking smallmidcap companies similar b...</td>\n",
       "      <td>0.193912</td>\n",
       "      <td>Positive</td>\n",
       "    </tr>\n",
       "    <tr>\n",
       "      <th>3</th>\n",
       "      <td>Costco tariffs coming to a store near you!</td>\n",
       "      <td>0</td>\n",
       "      <td>1970-01-01 00:00:01.733271399</td>\n",
       "      <td>I love Costco, the stores are awesome and they...</td>\n",
       "      <td>0.121975</td>\n",
       "      <td>1970-01</td>\n",
       "      <td>love costco stores awesome everything feel sto...</td>\n",
       "      <td>0.103333</td>\n",
       "      <td>Positive</td>\n",
       "    </tr>\n",
       "    <tr>\n",
       "      <th>4</th>\n",
       "      <td>\"Existencial question\" about common stocks.</td>\n",
       "      <td>0</td>\n",
       "      <td>1970-01-01 00:00:01.733268558</td>\n",
       "      <td>Let's suppose that a few financial analysts ha...</td>\n",
       "      <td>0.039692</td>\n",
       "      <td>1970-01</td>\n",
       "      <td>lets suppose financial analysts evaluated intr...</td>\n",
       "      <td>0.082701</td>\n",
       "      <td>Positive</td>\n",
       "    </tr>\n",
       "  </tbody>\n",
       "</table>\n",
       "</div>"
      ],
      "text/plain": [
       "                                               Title  Upvotes  \\\n",
       "0            Online stock recommadtions premium acct        0   \n",
       "1  I Want to Hear Your Thoughts on the Qualities ...        0   \n",
       "2  Name a large-cap stock and its small-cap compe...       46   \n",
       "3        Costco tariffs coming to a store near you!         0   \n",
       "4        \"Existencial question\" about common stocks.        0   \n",
       "\n",
       "                        Created  \\\n",
       "0 1970-01-01 00:00:01.733291661   \n",
       "1 1970-01-01 00:00:01.733291089   \n",
       "2 1970-01-01 00:00:01.733271696   \n",
       "3 1970-01-01 00:00:01.733271399   \n",
       "4 1970-01-01 00:00:01.733268558   \n",
       "\n",
       "                                                Text  Sentiment YearMonth  \\\n",
       "0  Hi guys, iam planning to purchase premium acct...   0.750000   1970-01   \n",
       "1  With Pat Gelsinger retiring, the company is on...   0.011094   1970-01   \n",
       "2  I am always looking for small/mid-cap companie...   0.222484   1970-01   \n",
       "3  I love Costco, the stores are awesome and they...   0.121975   1970-01   \n",
       "4  Let's suppose that a few financial analysts ha...   0.039692   1970-01   \n",
       "\n",
       "                                        Cleaned_Text  Sentiment_Polarity  \\\n",
       "0  hi guys iam planning purchase premium acct get...            0.750000   \n",
       "1  pat gelsinger retiring company searching ceo s...            0.018669   \n",
       "2  always looking smallmidcap companies similar b...            0.193912   \n",
       "3  love costco stores awesome everything feel sto...            0.103333   \n",
       "4  lets suppose financial analysts evaluated intr...            0.082701   \n",
       "\n",
       "  Sentiment-TB  \n",
       "0     Positive  \n",
       "1     Positive  \n",
       "2     Positive  \n",
       "3     Positive  \n",
       "4     Positive  "
      ]
     },
     "execution_count": 34,
     "metadata": {},
     "output_type": "execute_result"
    }
   ],
   "source": [
    "df.head()"
   ]
  },
  {
   "cell_type": "code",
   "execution_count": 35,
   "id": "d6d41c65-34f9-4d5f-ba77-6c50f194e8cd",
   "metadata": {},
   "outputs": [],
   "source": [
    "# Create a binary target variable based on sentiment: 1 for positive sentiment, 0 for negative/neutral\n",
    "df['Stock_Movement'] = df['Sentiment-TB'].apply(lambda x: 1 if x == 'Positive' else 0)"
   ]
  },
  {
   "cell_type": "code",
   "execution_count": 36,
   "id": "e253c1d9-4f5d-4d3c-a12f-54fc8457de4e",
   "metadata": {},
   "outputs": [
    {
     "data": {
      "text/html": [
       "<div>\n",
       "<style scoped>\n",
       "    .dataframe tbody tr th:only-of-type {\n",
       "        vertical-align: middle;\n",
       "    }\n",
       "\n",
       "    .dataframe tbody tr th {\n",
       "        vertical-align: top;\n",
       "    }\n",
       "\n",
       "    .dataframe thead th {\n",
       "        text-align: right;\n",
       "    }\n",
       "</style>\n",
       "<table border=\"1\" class=\"dataframe\">\n",
       "  <thead>\n",
       "    <tr style=\"text-align: right;\">\n",
       "      <th></th>\n",
       "      <th>Title</th>\n",
       "      <th>Upvotes</th>\n",
       "      <th>Created</th>\n",
       "      <th>Text</th>\n",
       "      <th>Sentiment</th>\n",
       "      <th>YearMonth</th>\n",
       "      <th>Cleaned_Text</th>\n",
       "      <th>Sentiment_Polarity</th>\n",
       "      <th>Sentiment-TB</th>\n",
       "      <th>Stock_Movement</th>\n",
       "    </tr>\n",
       "  </thead>\n",
       "  <tbody>\n",
       "    <tr>\n",
       "      <th>0</th>\n",
       "      <td>Online stock recommadtions premium acct</td>\n",
       "      <td>0</td>\n",
       "      <td>1970-01-01 00:00:01.733291661</td>\n",
       "      <td>Hi guys, iam planning to purchase premium acct...</td>\n",
       "      <td>0.750000</td>\n",
       "      <td>1970-01</td>\n",
       "      <td>hi guys iam planning purchase premium acct get...</td>\n",
       "      <td>0.750000</td>\n",
       "      <td>Positive</td>\n",
       "      <td>1</td>\n",
       "    </tr>\n",
       "    <tr>\n",
       "      <th>1</th>\n",
       "      <td>I Want to Hear Your Thoughts on the Qualities ...</td>\n",
       "      <td>0</td>\n",
       "      <td>1970-01-01 00:00:01.733291089</td>\n",
       "      <td>With Pat Gelsinger retiring, the company is on...</td>\n",
       "      <td>0.011094</td>\n",
       "      <td>1970-01</td>\n",
       "      <td>pat gelsinger retiring company searching ceo s...</td>\n",
       "      <td>0.018669</td>\n",
       "      <td>Positive</td>\n",
       "      <td>1</td>\n",
       "    </tr>\n",
       "    <tr>\n",
       "      <th>2</th>\n",
       "      <td>Name a large-cap stock and its small-cap compe...</td>\n",
       "      <td>46</td>\n",
       "      <td>1970-01-01 00:00:01.733271696</td>\n",
       "      <td>I am always looking for small/mid-cap companie...</td>\n",
       "      <td>0.222484</td>\n",
       "      <td>1970-01</td>\n",
       "      <td>always looking smallmidcap companies similar b...</td>\n",
       "      <td>0.193912</td>\n",
       "      <td>Positive</td>\n",
       "      <td>1</td>\n",
       "    </tr>\n",
       "    <tr>\n",
       "      <th>3</th>\n",
       "      <td>Costco tariffs coming to a store near you!</td>\n",
       "      <td>0</td>\n",
       "      <td>1970-01-01 00:00:01.733271399</td>\n",
       "      <td>I love Costco, the stores are awesome and they...</td>\n",
       "      <td>0.121975</td>\n",
       "      <td>1970-01</td>\n",
       "      <td>love costco stores awesome everything feel sto...</td>\n",
       "      <td>0.103333</td>\n",
       "      <td>Positive</td>\n",
       "      <td>1</td>\n",
       "    </tr>\n",
       "    <tr>\n",
       "      <th>4</th>\n",
       "      <td>\"Existencial question\" about common stocks.</td>\n",
       "      <td>0</td>\n",
       "      <td>1970-01-01 00:00:01.733268558</td>\n",
       "      <td>Let's suppose that a few financial analysts ha...</td>\n",
       "      <td>0.039692</td>\n",
       "      <td>1970-01</td>\n",
       "      <td>lets suppose financial analysts evaluated intr...</td>\n",
       "      <td>0.082701</td>\n",
       "      <td>Positive</td>\n",
       "      <td>1</td>\n",
       "    </tr>\n",
       "  </tbody>\n",
       "</table>\n",
       "</div>"
      ],
      "text/plain": [
       "                                               Title  Upvotes  \\\n",
       "0            Online stock recommadtions premium acct        0   \n",
       "1  I Want to Hear Your Thoughts on the Qualities ...        0   \n",
       "2  Name a large-cap stock and its small-cap compe...       46   \n",
       "3        Costco tariffs coming to a store near you!         0   \n",
       "4        \"Existencial question\" about common stocks.        0   \n",
       "\n",
       "                        Created  \\\n",
       "0 1970-01-01 00:00:01.733291661   \n",
       "1 1970-01-01 00:00:01.733291089   \n",
       "2 1970-01-01 00:00:01.733271696   \n",
       "3 1970-01-01 00:00:01.733271399   \n",
       "4 1970-01-01 00:00:01.733268558   \n",
       "\n",
       "                                                Text  Sentiment YearMonth  \\\n",
       "0  Hi guys, iam planning to purchase premium acct...   0.750000   1970-01   \n",
       "1  With Pat Gelsinger retiring, the company is on...   0.011094   1970-01   \n",
       "2  I am always looking for small/mid-cap companie...   0.222484   1970-01   \n",
       "3  I love Costco, the stores are awesome and they...   0.121975   1970-01   \n",
       "4  Let's suppose that a few financial analysts ha...   0.039692   1970-01   \n",
       "\n",
       "                                        Cleaned_Text  Sentiment_Polarity  \\\n",
       "0  hi guys iam planning purchase premium acct get...            0.750000   \n",
       "1  pat gelsinger retiring company searching ceo s...            0.018669   \n",
       "2  always looking smallmidcap companies similar b...            0.193912   \n",
       "3  love costco stores awesome everything feel sto...            0.103333   \n",
       "4  lets suppose financial analysts evaluated intr...            0.082701   \n",
       "\n",
       "  Sentiment-TB  Stock_Movement  \n",
       "0     Positive               1  \n",
       "1     Positive               1  \n",
       "2     Positive               1  \n",
       "3     Positive               1  \n",
       "4     Positive               1  "
      ]
     },
     "execution_count": 36,
     "metadata": {},
     "output_type": "execute_result"
    }
   ],
   "source": [
    "df.head()"
   ]
  },
  {
   "cell_type": "code",
   "execution_count": 37,
   "id": "700973df-9623-422a-8e6e-33d63912e26e",
   "metadata": {},
   "outputs": [],
   "source": [
    "from vaderSentiment.vaderSentiment import SentimentIntensityAnalyzer"
   ]
  },
  {
   "cell_type": "code",
   "execution_count": 38,
   "id": "e9a91449-5c86-472c-80f9-c89cf03af497",
   "metadata": {},
   "outputs": [],
   "source": [
    "sid = SentimentIntensityAnalyzer() # VADER sentiment analyzer"
   ]
  },
  {
   "cell_type": "code",
   "execution_count": 39,
   "id": "9dc618d7-4982-433c-88b9-febc49b1f311",
   "metadata": {},
   "outputs": [],
   "source": [
    "def assign_sentiment(compound_score):\n",
    "    if compound_score >= 0.05:\n",
    "        return 'Positive'\n",
    "    elif compound_score <= -0.05:\n",
    "        return 'Negative'\n",
    "    else:\n",
    "        return 'Neutral'"
   ]
  },
  {
   "cell_type": "code",
   "execution_count": 40,
   "id": "11593659-aacf-43b1-ae76-28f1de7fd625",
   "metadata": {},
   "outputs": [],
   "source": [
    "# Apply VADER sentiment analysis\n",
    "df.loc[:, 'Sentiment-Vader'] = df['Text'].apply(lambda x: assign_sentiment(sid.polarity_scores(x)['compound']))"
   ]
  },
  {
   "cell_type": "code",
   "execution_count": 41,
   "id": "5fe7156e-fb7d-404d-aa08-4982ee3aa66a",
   "metadata": {},
   "outputs": [
    {
     "data": {
      "text/plain": [
       "Sentiment-Vader\n",
       "Positive    2809\n",
       "Negative     441\n",
       "Neutral       74\n",
       "Name: count, dtype: int64"
      ]
     },
     "execution_count": 41,
     "metadata": {},
     "output_type": "execute_result"
    }
   ],
   "source": [
    "df['Sentiment-Vader'].value_counts()"
   ]
  },
  {
   "cell_type": "code",
   "execution_count": 42,
   "id": "8acc75d2-14ee-47ab-bd39-407dadd71f63",
   "metadata": {},
   "outputs": [
    {
     "data": {
      "text/plain": [
       "<Axes: xlabel='Sentiment-Vader'>"
      ]
     },
     "execution_count": 42,
     "metadata": {},
     "output_type": "execute_result"
    },
    {
     "data": {
      "image/png": "[encoded data removed]",
      "text/plain": [
       "<Figure size 640x480 with 1 Axes>"
      ]
     },
     "metadata": {},
     "output_type": "display_data"
    }
   ],
   "source": [
    "df['Sentiment-Vader'].value_counts().plot(kind='bar')"
   ]
  },
  {
   "cell_type": "code",
   "execution_count": 43,
   "id": "8b56cb83-9aaa-4baf-a7eb-1b5de1e7f73a",
   "metadata": {},
   "outputs": [
    {
     "data": {
      "text/plain": [
       "0          0\n",
       "1          0\n",
       "2         46\n",
       "3          0\n",
       "4          0\n",
       "        ... \n",
       "19797     76\n",
       "19810     32\n",
       "19825     94\n",
       "19950    473\n",
       "19968    284\n",
       "Name: Upvotes, Length: 3324, dtype: int64"
      ]
     },
     "execution_count": 43,
     "metadata": {},
     "output_type": "execute_result"
    }
   ],
   "source": [
    "df['Upvotes']"
   ]
  },
  {
   "cell_type": "code",
   "execution_count": 44,
   "id": "409af2d6-4855-472f-bde0-8efa49b250c4",
   "metadata": {},
   "outputs": [
    {
     "data": {
      "text/plain": [
       "258.1483152827918"
      ]
     },
     "execution_count": 44,
     "metadata": {},
     "output_type": "execute_result"
    }
   ],
   "source": [
    "df['Upvotes'].mean()"
   ]
  },
  {
   "cell_type": "code",
   "execution_count": 45,
   "id": "1523463f-a4e5-4eaf-ab9e-ab3a3cf78d0f",
   "metadata": {},
   "outputs": [
    {
     "data": {
      "text/plain": [
       "<pandas.core.groupby.generic.DataFrameGroupBy object at 0x000001AA06D85990>"
      ]
     },
     "execution_count": 45,
     "metadata": {},
     "output_type": "execute_result"
    }
   ],
   "source": [
    "df.groupby('Sentiment-Vader')"
   ]
  },
  {
   "cell_type": "code",
   "execution_count": 46,
   "id": "0ef3b84f-d091-4bc8-963b-e1b1198a9c55",
   "metadata": {},
   "outputs": [
    {
     "data": {
      "text/plain": [
       "Sentiment-Vader\n",
       "Negative    188.741497\n",
       "Neutral     422.216216\n",
       "Positive    264.722677\n",
       "Name: Upvotes, dtype: float64"
      ]
     },
     "execution_count": 46,
     "metadata": {},
     "output_type": "execute_result"
    }
   ],
   "source": [
    "df.groupby('Sentiment-Vader')['Upvotes'].mean()"
   ]
  },
  {
   "cell_type": "code",
   "execution_count": 47,
   "id": "04cb2b3c-30f2-437a-9dea-e1d01bb6d7b3",
   "metadata": {},
   "outputs": [
    {
     "data": {
      "text/plain": [
       "<Axes: xlabel='Sentiment-Vader'>"
      ]
     },
     "execution_count": 47,
     "metadata": {},
     "output_type": "execute_result"
    },
    {
     "data": {
      "image/png": "[encoded data removed]",
      "text/plain": [
       "<Figure size 640x480 with 1 Axes>"
      ]
     },
     "metadata": {},
     "output_type": "display_data"
    }
   ],
   "source": [
    "df.groupby('Sentiment-Vader')['Upvotes'].mean().plot(kind='bar')"
   ]
  },
  {
   "cell_type": "code",
   "execution_count": 48,
   "id": "3fd1c669-1c13-4064-a77e-0e9994d542b5",
   "metadata": {},
   "outputs": [
    {
     "data": {
      "text/html": [
       "<div>\n",
       "<style scoped>\n",
       "    .dataframe tbody tr th:only-of-type {\n",
       "        vertical-align: middle;\n",
       "    }\n",
       "\n",
       "    .dataframe tbody tr th {\n",
       "        vertical-align: top;\n",
       "    }\n",
       "\n",
       "    .dataframe thead th {\n",
       "        text-align: right;\n",
       "    }\n",
       "</style>\n",
       "<table border=\"1\" class=\"dataframe\">\n",
       "  <thead>\n",
       "    <tr style=\"text-align: right;\">\n",
       "      <th></th>\n",
       "      <th>Title</th>\n",
       "      <th>Upvotes</th>\n",
       "      <th>Created</th>\n",
       "      <th>Text</th>\n",
       "      <th>Sentiment</th>\n",
       "      <th>YearMonth</th>\n",
       "      <th>Cleaned_Text</th>\n",
       "      <th>Sentiment_Polarity</th>\n",
       "      <th>Sentiment-TB</th>\n",
       "      <th>Stock_Movement</th>\n",
       "      <th>Sentiment-Vader</th>\n",
       "    </tr>\n",
       "  </thead>\n",
       "  <tbody>\n",
       "    <tr>\n",
       "      <th>0</th>\n",
       "      <td>Online stock recommadtions premium acct</td>\n",
       "      <td>0</td>\n",
       "      <td>1970-01-01 00:00:01.733291661</td>\n",
       "      <td>Hi guys, iam planning to purchase premium acct...</td>\n",
       "      <td>0.750000</td>\n",
       "      <td>1970-01</td>\n",
       "      <td>hi guys iam planning purchase premium acct get...</td>\n",
       "      <td>0.750000</td>\n",
       "      <td>Positive</td>\n",
       "      <td>1</td>\n",
       "      <td>Positive</td>\n",
       "    </tr>\n",
       "    <tr>\n",
       "      <th>1</th>\n",
       "      <td>I Want to Hear Your Thoughts on the Qualities ...</td>\n",
       "      <td>0</td>\n",
       "      <td>1970-01-01 00:00:01.733291089</td>\n",
       "      <td>With Pat Gelsinger retiring, the company is on...</td>\n",
       "      <td>0.011094</td>\n",
       "      <td>1970-01</td>\n",
       "      <td>pat gelsinger retiring company searching ceo s...</td>\n",
       "      <td>0.018669</td>\n",
       "      <td>Positive</td>\n",
       "      <td>1</td>\n",
       "      <td>Positive</td>\n",
       "    </tr>\n",
       "    <tr>\n",
       "      <th>2</th>\n",
       "      <td>Name a large-cap stock and its small-cap compe...</td>\n",
       "      <td>46</td>\n",
       "      <td>1970-01-01 00:00:01.733271696</td>\n",
       "      <td>I am always looking for small/mid-cap companie...</td>\n",
       "      <td>0.222484</td>\n",
       "      <td>1970-01</td>\n",
       "      <td>always looking smallmidcap companies similar b...</td>\n",
       "      <td>0.193912</td>\n",
       "      <td>Positive</td>\n",
       "      <td>1</td>\n",
       "      <td>Positive</td>\n",
       "    </tr>\n",
       "    <tr>\n",
       "      <th>3</th>\n",
       "      <td>Costco tariffs coming to a store near you!</td>\n",
       "      <td>0</td>\n",
       "      <td>1970-01-01 00:00:01.733271399</td>\n",
       "      <td>I love Costco, the stores are awesome and they...</td>\n",
       "      <td>0.121975</td>\n",
       "      <td>1970-01</td>\n",
       "      <td>love costco stores awesome everything feel sto...</td>\n",
       "      <td>0.103333</td>\n",
       "      <td>Positive</td>\n",
       "      <td>1</td>\n",
       "      <td>Positive</td>\n",
       "    </tr>\n",
       "    <tr>\n",
       "      <th>4</th>\n",
       "      <td>\"Existencial question\" about common stocks.</td>\n",
       "      <td>0</td>\n",
       "      <td>1970-01-01 00:00:01.733268558</td>\n",
       "      <td>Let's suppose that a few financial analysts ha...</td>\n",
       "      <td>0.039692</td>\n",
       "      <td>1970-01</td>\n",
       "      <td>lets suppose financial analysts evaluated intr...</td>\n",
       "      <td>0.082701</td>\n",
       "      <td>Positive</td>\n",
       "      <td>1</td>\n",
       "      <td>Positive</td>\n",
       "    </tr>\n",
       "  </tbody>\n",
       "</table>\n",
       "</div>"
      ],
      "text/plain": [
       "                                               Title  Upvotes  \\\n",
       "0            Online stock recommadtions premium acct        0   \n",
       "1  I Want to Hear Your Thoughts on the Qualities ...        0   \n",
       "2  Name a large-cap stock and its small-cap compe...       46   \n",
       "3        Costco tariffs coming to a store near you!         0   \n",
       "4        \"Existencial question\" about common stocks.        0   \n",
       "\n",
       "                        Created  \\\n",
       "0 1970-01-01 00:00:01.733291661   \n",
       "1 1970-01-01 00:00:01.733291089   \n",
       "2 1970-01-01 00:00:01.733271696   \n",
       "3 1970-01-01 00:00:01.733271399   \n",
       "4 1970-01-01 00:00:01.733268558   \n",
       "\n",
       "                                                Text  Sentiment YearMonth  \\\n",
       "0  Hi guys, iam planning to purchase premium acct...   0.750000   1970-01   \n",
       "1  With Pat Gelsinger retiring, the company is on...   0.011094   1970-01   \n",
       "2  I am always looking for small/mid-cap companie...   0.222484   1970-01   \n",
       "3  I love Costco, the stores are awesome and they...   0.121975   1970-01   \n",
       "4  Let's suppose that a few financial analysts ha...   0.039692   1970-01   \n",
       "\n",
       "                                        Cleaned_Text  Sentiment_Polarity  \\\n",
       "0  hi guys iam planning purchase premium acct get...            0.750000   \n",
       "1  pat gelsinger retiring company searching ceo s...            0.018669   \n",
       "2  always looking smallmidcap companies similar b...            0.193912   \n",
       "3  love costco stores awesome everything feel sto...            0.103333   \n",
       "4  lets suppose financial analysts evaluated intr...            0.082701   \n",
       "\n",
       "  Sentiment-TB  Stock_Movement Sentiment-Vader  \n",
       "0     Positive               1        Positive  \n",
       "1     Positive               1        Positive  \n",
       "2     Positive               1        Positive  \n",
       "3     Positive               1        Positive  \n",
       "4     Positive               1        Positive  "
      ]
     },
     "execution_count": 48,
     "metadata": {},
     "output_type": "execute_result"
    }
   ],
   "source": [
    "df.head()"
   ]
  },
  {
   "cell_type": "code",
   "execution_count": 49,
   "id": "2bb8ddb5-e994-4994-b298-a0e87750c7f7",
   "metadata": {},
   "outputs": [],
   "source": [
    "## Now Compare the Predictions of both VADER and TextBlob"
   ]
  },
  {
   "cell_type": "code",
   "execution_count": 50,
   "id": "352c1fef-745e-4ae7-9695-8418f80a1ede",
   "metadata": {},
   "outputs": [],
   "source": [
    "df['comparison'] = df['Sentiment-Vader'] == df['Sentiment-TB']"
   ]
  },
  {
   "cell_type": "code",
   "execution_count": 51,
   "id": "b20ad517-1123-4830-b32e-e9bd64b1351e",
   "metadata": {},
   "outputs": [],
   "source": [
    "comparison_percentage = df['comparison'].mean() * 100"
   ]
  },
  {
   "cell_type": "code",
   "execution_count": 52,
   "id": "61979c10-55e9-4bb0-8586-8baeac619c2a",
   "metadata": {},
   "outputs": [
    {
     "data": {
      "text/plain": [
       "73.76654632972323"
      ]
     },
     "execution_count": 52,
     "metadata": {},
     "output_type": "execute_result"
    }
   ],
   "source": [
    "comparison_percentage"
   ]
  },
  {
   "cell_type": "code",
   "execution_count": 53,
   "id": "eca1db79-98e2-4056-9e8e-1a8d93330466",
   "metadata": {},
   "outputs": [],
   "source": [
    "## we see that both the VADER and TextBlob performing well over the dataset."
   ]
  },
  {
   "cell_type": "code",
   "execution_count": 54,
   "id": "837fee7a-9d7d-4aed-bda4-1f8775d2aff1",
   "metadata": {},
   "outputs": [],
   "source": [
    "from sklearn.feature_extraction.text import TfidfVectorizer\n",
    "from sklearn.decomposition import LatentDirichletAllocation"
   ]
  },
  {
   "cell_type": "code",
   "execution_count": 55,
   "id": "f26f2d0c-09a4-48ed-ae1b-ae738b495d35",
   "metadata": {},
   "outputs": [],
   "source": [
    "# Vectorize the text data means simply converting text to numerical features using TF-IDF\n",
    "vectorizer = TfidfVectorizer(stop_words='english', max_features=1000)\n",
    "X = vectorizer.fit_transform(df['Cleaned_Text'])"
   ]
  },
  {
   "cell_type": "code",
   "execution_count": 56,
   "id": "1623e7c0-205e-4827-ae10-b4a18c280665",
   "metadata": {},
   "outputs": [],
   "source": [
    "# Perform LDA \n",
    "lda = LatentDirichletAllocation(n_components=5, random_state=42)  # Adjust n_components as needed\n",
    "lda.fit(X)\n",
    "\n",
    "terms = vectorizer.get_feature_names_out()"
   ]
  },
  {
   "cell_type": "code",
   "execution_count": 57,
   "id": "94213044-42be-45f8-b454-ee8e8799dfad",
   "metadata": {},
   "outputs": [
    {
     "name": "stdout",
     "output_type": "stream",
     "text": [
      "\n",
      "Topic #1:\n",
      "['stock', 'im', 'like', 'price', 'know', 'market', 'stocks', 'buy', 'dont', 'company']\n",
      "\n",
      "Topic #2:\n",
      "['billion', 'revenue', 'million', 'quarter', 'year', 'earnings', 'company', 'share', 'growth', 'sales']\n",
      "\n",
      "Topic #3:\n",
      "['im', 'money', 'visa', 'year', 'dividend', 'sell', 'apple', 'microsoft', 'know', 'yield']\n",
      "\n",
      "Topic #4:\n",
      "['news', 'stocks', 'fundamentals', 'investopedia', 'links', 'aggregated', 'market', 'google', 'options', 'question']\n",
      "\n",
      "Topic #5:\n",
      "['tesla', 'said', 'musk', 'trump', 'sofi', 'boeing', 'future', 'new', 'rivian', 'workers']\n"
     ]
    }
   ],
   "source": [
    "# By this we can Display the top words for each topic\n",
    "for idx, topic in enumerate(lda.components_):  ## as we have 5 components.\n",
    "    print(f\"\\nTopic #{idx + 1}:\")\n",
    "    top_words = [terms[i] for i in topic.argsort()[:-11:-1]]\n",
    "    print(top_words)"
   ]
  },
  {
   "cell_type": "code",
   "execution_count": 58,
   "id": "7ff7a486-9ded-4d80-8701-d30cf95b7bcb",
   "metadata": {},
   "outputs": [
    {
     "data": {
      "image/png": "[encoded data removed]",
      "text/plain": [
       "<Figure size 1000x600 with 1 Axes>"
      ]
     },
     "metadata": {},
     "output_type": "display_data"
    }
   ],
   "source": [
    "topic_weights = lda.transform(X)\n",
    "df['Dominant_Topic'] = topic_weights.argmax(axis=1)  # adding one more column to df.\n",
    "\n",
    "## plot it\n",
    "plt.figure(figsize=(10,6))\n",
    "plt.hist(df['Dominant_Topic'], bins=range(6), edgecolor='black', align='left')\n",
    "plt.title('Topic Distribution Across Documents')\n",
    "plt.xlabel('Topic')\n",
    "plt.ylabel('Frequency')\n",
    "plt.xticks(range(5))\n",
    "plt.show()"
   ]
  },
  {
   "cell_type": "code",
   "execution_count": 59,
   "id": "5842069c-cf11-4d74-90e6-b21e62dcf43b",
   "metadata": {},
   "outputs": [
    {
     "data": {
      "text/html": [
       "<div>\n",
       "<style scoped>\n",
       "    .dataframe tbody tr th:only-of-type {\n",
       "        vertical-align: middle;\n",
       "    }\n",
       "\n",
       "    .dataframe tbody tr th {\n",
       "        vertical-align: top;\n",
       "    }\n",
       "\n",
       "    .dataframe thead th {\n",
       "        text-align: right;\n",
       "    }\n",
       "</style>\n",
       "<table border=\"1\" class=\"dataframe\">\n",
       "  <thead>\n",
       "    <tr style=\"text-align: right;\">\n",
       "      <th></th>\n",
       "      <th>Title</th>\n",
       "      <th>Upvotes</th>\n",
       "      <th>Created</th>\n",
       "      <th>Text</th>\n",
       "      <th>Sentiment</th>\n",
       "      <th>YearMonth</th>\n",
       "      <th>Cleaned_Text</th>\n",
       "      <th>Sentiment_Polarity</th>\n",
       "      <th>Sentiment-TB</th>\n",
       "      <th>Stock_Movement</th>\n",
       "      <th>Sentiment-Vader</th>\n",
       "      <th>comparison</th>\n",
       "      <th>Dominant_Topic</th>\n",
       "    </tr>\n",
       "  </thead>\n",
       "  <tbody>\n",
       "    <tr>\n",
       "      <th>0</th>\n",
       "      <td>Online stock recommadtions premium acct</td>\n",
       "      <td>0</td>\n",
       "      <td>1970-01-01 00:00:01.733291661</td>\n",
       "      <td>Hi guys, iam planning to purchase premium acct...</td>\n",
       "      <td>0.750000</td>\n",
       "      <td>1970-01</td>\n",
       "      <td>hi guys iam planning purchase premium acct get...</td>\n",
       "      <td>0.750000</td>\n",
       "      <td>Positive</td>\n",
       "      <td>1</td>\n",
       "      <td>Positive</td>\n",
       "      <td>True</td>\n",
       "      <td>0</td>\n",
       "    </tr>\n",
       "    <tr>\n",
       "      <th>1</th>\n",
       "      <td>I Want to Hear Your Thoughts on the Qualities ...</td>\n",
       "      <td>0</td>\n",
       "      <td>1970-01-01 00:00:01.733291089</td>\n",
       "      <td>With Pat Gelsinger retiring, the company is on...</td>\n",
       "      <td>0.011094</td>\n",
       "      <td>1970-01</td>\n",
       "      <td>pat gelsinger retiring company searching ceo s...</td>\n",
       "      <td>0.018669</td>\n",
       "      <td>Positive</td>\n",
       "      <td>1</td>\n",
       "      <td>Positive</td>\n",
       "      <td>True</td>\n",
       "      <td>1</td>\n",
       "    </tr>\n",
       "    <tr>\n",
       "      <th>2</th>\n",
       "      <td>Name a large-cap stock and its small-cap compe...</td>\n",
       "      <td>46</td>\n",
       "      <td>1970-01-01 00:00:01.733271696</td>\n",
       "      <td>I am always looking for small/mid-cap companie...</td>\n",
       "      <td>0.222484</td>\n",
       "      <td>1970-01</td>\n",
       "      <td>always looking smallmidcap companies similar b...</td>\n",
       "      <td>0.193912</td>\n",
       "      <td>Positive</td>\n",
       "      <td>1</td>\n",
       "      <td>Positive</td>\n",
       "      <td>True</td>\n",
       "      <td>0</td>\n",
       "    </tr>\n",
       "    <tr>\n",
       "      <th>3</th>\n",
       "      <td>Costco tariffs coming to a store near you!</td>\n",
       "      <td>0</td>\n",
       "      <td>1970-01-01 00:00:01.733271399</td>\n",
       "      <td>I love Costco, the stores are awesome and they...</td>\n",
       "      <td>0.121975</td>\n",
       "      <td>1970-01</td>\n",
       "      <td>love costco stores awesome everything feel sto...</td>\n",
       "      <td>0.103333</td>\n",
       "      <td>Positive</td>\n",
       "      <td>1</td>\n",
       "      <td>Positive</td>\n",
       "      <td>True</td>\n",
       "      <td>0</td>\n",
       "    </tr>\n",
       "    <tr>\n",
       "      <th>4</th>\n",
       "      <td>\"Existencial question\" about common stocks.</td>\n",
       "      <td>0</td>\n",
       "      <td>1970-01-01 00:00:01.733268558</td>\n",
       "      <td>Let's suppose that a few financial analysts ha...</td>\n",
       "      <td>0.039692</td>\n",
       "      <td>1970-01</td>\n",
       "      <td>lets suppose financial analysts evaluated intr...</td>\n",
       "      <td>0.082701</td>\n",
       "      <td>Positive</td>\n",
       "      <td>1</td>\n",
       "      <td>Positive</td>\n",
       "      <td>True</td>\n",
       "      <td>0</td>\n",
       "    </tr>\n",
       "  </tbody>\n",
       "</table>\n",
       "</div>"
      ],
      "text/plain": [
       "                                               Title  Upvotes  \\\n",
       "0            Online stock recommadtions premium acct        0   \n",
       "1  I Want to Hear Your Thoughts on the Qualities ...        0   \n",
       "2  Name a large-cap stock and its small-cap compe...       46   \n",
       "3        Costco tariffs coming to a store near you!         0   \n",
       "4        \"Existencial question\" about common stocks.        0   \n",
       "\n",
       "                        Created  \\\n",
       "0 1970-01-01 00:00:01.733291661   \n",
       "1 1970-01-01 00:00:01.733291089   \n",
       "2 1970-01-01 00:00:01.733271696   \n",
       "3 1970-01-01 00:00:01.733271399   \n",
       "4 1970-01-01 00:00:01.733268558   \n",
       "\n",
       "                                                Text  Sentiment YearMonth  \\\n",
       "0  Hi guys, iam planning to purchase premium acct...   0.750000   1970-01   \n",
       "1  With Pat Gelsinger retiring, the company is on...   0.011094   1970-01   \n",
       "2  I am always looking for small/mid-cap companie...   0.222484   1970-01   \n",
       "3  I love Costco, the stores are awesome and they...   0.121975   1970-01   \n",
       "4  Let's suppose that a few financial analysts ha...   0.039692   1970-01   \n",
       "\n",
       "                                        Cleaned_Text  Sentiment_Polarity  \\\n",
       "0  hi guys iam planning purchase premium acct get...            0.750000   \n",
       "1  pat gelsinger retiring company searching ceo s...            0.018669   \n",
       "2  always looking smallmidcap companies similar b...            0.193912   \n",
       "3  love costco stores awesome everything feel sto...            0.103333   \n",
       "4  lets suppose financial analysts evaluated intr...            0.082701   \n",
       "\n",
       "  Sentiment-TB  Stock_Movement Sentiment-Vader  comparison  Dominant_Topic  \n",
       "0     Positive               1        Positive        True               0  \n",
       "1     Positive               1        Positive        True               1  \n",
       "2     Positive               1        Positive        True               0  \n",
       "3     Positive               1        Positive        True               0  \n",
       "4     Positive               1        Positive        True               0  "
      ]
     },
     "execution_count": 59,
     "metadata": {},
     "output_type": "execute_result"
    }
   ],
   "source": [
    "df.head()"
   ]
  },
  {
   "cell_type": "code",
   "execution_count": 60,
   "id": "4b2497f8-3cba-4010-b79c-d49bbad95176",
   "metadata": {},
   "outputs": [
    {
     "data": {
      "text/plain": [
       "Index(['Title', 'Upvotes', 'Created', 'Text', 'Sentiment', 'YearMonth',\n",
       "       'Cleaned_Text', 'Sentiment_Polarity', 'Sentiment-TB', 'Stock_Movement',\n",
       "       'Sentiment-Vader', 'comparison', 'Dominant_Topic'],\n",
       "      dtype='object')"
      ]
     },
     "execution_count": 60,
     "metadata": {},
     "output_type": "execute_result"
    }
   ],
   "source": [
    "df.columns"
   ]
  },
  {
   "cell_type": "code",
   "execution_count": 61,
   "id": "29ca293d-c340-4781-b409-87c08dcd9031",
   "metadata": {},
   "outputs": [
    {
     "name": "stdout",
     "output_type": "stream",
     "text": [
      "<class 'pandas.core.frame.DataFrame'>\n",
      "Index: 3324 entries, 0 to 19968\n",
      "Data columns (total 13 columns):\n",
      " #   Column              Non-Null Count  Dtype         \n",
      "---  ------              --------------  -----         \n",
      " 0   Title               3324 non-null   object        \n",
      " 1   Upvotes             3324 non-null   int64         \n",
      " 2   Created             3324 non-null   datetime64[ns]\n",
      " 3   Text                3324 non-null   object        \n",
      " 4   Sentiment           3324 non-null   float64       \n",
      " 5   YearMonth           3324 non-null   period[M]     \n",
      " 6   Cleaned_Text        3324 non-null   object        \n",
      " 7   Sentiment_Polarity  3324 non-null   float64       \n",
      " 8   Sentiment-TB        3324 non-null   object        \n",
      " 9   Stock_Movement      3324 non-null   int64         \n",
      " 10  Sentiment-Vader     3324 non-null   object        \n",
      " 11  comparison          3324 non-null   bool          \n",
      " 12  Dominant_Topic      3324 non-null   int64         \n",
      "dtypes: bool(1), datetime64[ns](1), float64(2), int64(3), object(5), period[M](1)\n",
      "memory usage: 340.8+ KB\n"
     ]
    }
   ],
   "source": [
    "df.info()"
   ]
  },
  {
   "cell_type": "markdown",
   "id": "f1a86091-20f4-4fc1-9d6a-4ec982c6c261",
   "metadata": {},
   "source": [
    "## Task 3 -> Prediction"
   ]
  },
  {
   "cell_type": "code",
   "execution_count": 62,
   "id": "108ea8b3-1802-4c9f-ae3d-7f07523297f0",
   "metadata": {},
   "outputs": [],
   "source": [
    "from sklearn.metrics import accuracy_score, classification_report, confusion_matrix"
   ]
  },
  {
   "cell_type": "code",
   "execution_count": 63,
   "id": "ec94ff02-1c53-4471-8b4d-e1da766fba3b",
   "metadata": {},
   "outputs": [],
   "source": [
    "X = df[['Sentiment_Polarity']]  # We can use sentiment polarity as the feature\n",
    "y = df['Stock_Movement']  # Target variable: 1 for upward movement, 0 for downward movement"
   ]
  },
  {
   "cell_type": "code",
   "execution_count": 64,
   "id": "b134d0c0-f1b9-4ce7-b9e3-c21836caf23d",
   "metadata": {},
   "outputs": [],
   "source": [
    "from sklearn.model_selection import train_test_split"
   ]
  },
  {
   "cell_type": "code",
   "execution_count": 95,
   "id": "a3528946-090b-4053-b5e5-d7d2fc160c85",
   "metadata": {},
   "outputs": [],
   "source": [
    "X_train, X_test, y_train, y_test = train_test_split(X, y, test_size=0.5, random_state=42, shuffle=True)"
   ]
  },
  {
   "cell_type": "code",
   "execution_count": 96,
   "id": "68d1f34b-55dd-472e-b69f-8a783b7a4412",
   "metadata": {},
   "outputs": [],
   "source": [
    "from sklearn.preprocessing import StandardScaler"
   ]
  },
  {
   "cell_type": "code",
   "execution_count": 97,
   "id": "5ee220bd-03d2-4574-9f66-5fa21e069f8b",
   "metadata": {},
   "outputs": [],
   "source": [
    "scaler = StandardScaler()     ## # Standardize the features as it is important for various models like Logistic Regression, SVM.\n",
    "X_train_scaled = scaler.fit_transform(X_train)\n",
    "X_test_scaled = scaler.transform(X_test)"
   ]
  },
  {
   "cell_type": "code",
   "execution_count": 98,
   "id": "e0c491db-a300-4eca-973c-9a5150af23aa",
   "metadata": {},
   "outputs": [],
   "source": [
    "from sklearn.linear_model import LogisticRegression"
   ]
  },
  {
   "cell_type": "code",
   "execution_count": 99,
   "id": "77c541ae-12e1-4b02-8f0b-a45f9f32966f",
   "metadata": {},
   "outputs": [
    {
     "name": "stdout",
     "output_type": "stream",
     "text": [
      "Accuracy: 0.9975932611311673\n",
      "              precision    recall  f1-score   support\n",
      "\n",
      "           0       0.99      1.00      0.99       354\n",
      "           1       1.00      1.00      1.00      1308\n",
      "\n",
      "    accuracy                           1.00      1662\n",
      "   macro avg       0.99      1.00      1.00      1662\n",
      "weighted avg       1.00      1.00      1.00      1662\n",
      "\n",
      "[[ 354    0]\n",
      " [   4 1304]]\n"
     ]
    }
   ],
   "source": [
    "## Logistic Regression with L2 Regularization\n",
    "lr_model = LogisticRegression(penalty='l2', solver='liblinear')  # L2 regularization (Ridge)\n",
    "lr_model.fit(X_train_scaled, y_train)\n",
    "y_pred_lr = lr_model.predict(X_test_scaled)\n",
    "print(f\"Accuracy: {accuracy_score(y_test, y_pred_lr)}\")\n",
    "print(classification_report(y_test, y_pred_lr))\n",
    "print(confusion_matrix(y_test, y_pred_lr))"
   ]
  },
  {
   "cell_type": "code",
   "execution_count": 100,
   "id": "6064b691-382d-4eb9-960e-0170778f7a6d",
   "metadata": {},
   "outputs": [
    {
     "name": "stdout",
     "output_type": "stream",
     "text": [
      "Accuracy: 0.9975932611311673\n",
      "              precision    recall  f1-score   support\n",
      "\n",
      "           0       0.99      1.00      0.99       354\n",
      "           1       1.00      1.00      1.00      1308\n",
      "\n",
      "    accuracy                           1.00      1662\n",
      "   macro avg       0.99      1.00      1.00      1662\n",
      "weighted avg       1.00      1.00      1.00      1662\n",
      "\n",
      "[[ 354    0]\n",
      " [   4 1304]]\n"
     ]
    }
   ],
   "source": [
    "# Logistic Regression with L1 regularization\n",
    "lr_model_l1 = LogisticRegression(penalty='l1', solver='liblinear')  # L1 regularization (Lasso)\n",
    "lr_model_l1.fit(X_train_scaled, y_train)\n",
    "y_pred_lr_l1 = lr_model_l1.predict(X_test_scaled)\n",
    "print(f\"Accuracy: {accuracy_score(y_test, y_pred_lr_l1)}\")\n",
    "print(classification_report(y_test, y_pred_lr_l1))\n",
    "print(confusion_matrix(y_test, y_pred_lr_l1))"
   ]
  },
  {
   "cell_type": "code",
   "execution_count": 101,
   "id": "55822d1c-62c4-48cd-aabf-918a7ce4ae01",
   "metadata": {},
   "outputs": [],
   "source": [
    "from sklearn.ensemble import GradientBoostingClassifier"
   ]
  },
  {
   "cell_type": "code",
   "execution_count": 102,
   "id": "c1871d33-1ae2-44cc-9f5e-825bd60a36a4",
   "metadata": {},
   "outputs": [
    {
     "name": "stdout",
     "output_type": "stream",
     "text": [
      "Accuracy: 0.9975932611311673\n",
      "              precision    recall  f1-score   support\n",
      "\n",
      "           0       0.99      1.00      0.99       354\n",
      "           1       1.00      1.00      1.00      1308\n",
      "\n",
      "    accuracy                           1.00      1662\n",
      "   macro avg       0.99      1.00      1.00      1662\n",
      "weighted avg       1.00      1.00      1.00      1662\n",
      "\n",
      "[[ 354    0]\n",
      " [   4 1304]]\n"
     ]
    }
   ],
   "source": [
    "gb_model = GradientBoostingClassifier(random_state=42)\n",
    "gb_model.fit(X_train, y_train)\n",
    "y_pred_gb = gb_model.predict(X_test)\n",
    "print(f\"Accuracy: {accuracy_score(y_test, y_pred_gb)}\")\n",
    "print(classification_report(y_test, y_pred_gb))\n",
    "print(confusion_matrix(y_test, y_pred_gb))"
   ]
  },
  {
   "cell_type": "code",
   "execution_count": 103,
   "id": "c526390c-b122-498c-a126-3bb0e9da99ae",
   "metadata": {},
   "outputs": [],
   "source": [
    "from sklearn.ensemble import RandomForestClassifier"
   ]
  },
  {
   "cell_type": "code",
   "execution_count": 104,
   "id": "6d6202a7-1cda-4bbf-a77d-2711d74a5e72",
   "metadata": {},
   "outputs": [
    {
     "name": "stdout",
     "output_type": "stream",
     "text": [
      "Accuracy: 0.9975932611311673\n",
      "              precision    recall  f1-score   support\n",
      "\n",
      "           0       0.99      1.00      0.99       354\n",
      "           1       1.00      1.00      1.00      1308\n",
      "\n",
      "    accuracy                           1.00      1662\n",
      "   macro avg       0.99      1.00      1.00      1662\n",
      "weighted avg       1.00      1.00      1.00      1662\n",
      "\n",
      "[[ 354    0]\n",
      " [   4 1304]]\n"
     ]
    }
   ],
   "source": [
    "## by Random Forest Classifier \n",
    "rf_model = RandomForestClassifier(random_state=42)\n",
    "rf_model.fit(X_train, y_train)\n",
    "y_pred_rf = rf_model.predict(X_test)\n",
    "print(f\"Accuracy: {accuracy_score(y_test, y_pred_rf)}\")\n",
    "print(classification_report(y_test, y_pred_rf))\n",
    "print(confusion_matrix(y_test, y_pred_rf))"
   ]
  },
  {
   "cell_type": "code",
   "execution_count": 105,
   "id": "241d6cb8-c165-4c43-a470-e5535440c105",
   "metadata": {},
   "outputs": [],
   "source": [
    "from sklearn.svm import SVC"
   ]
  },
  {
   "cell_type": "code",
   "execution_count": 106,
   "id": "abb4fc04-16e3-4d28-a63f-4cd853b3e478",
   "metadata": {},
   "outputs": [
    {
     "name": "stdout",
     "output_type": "stream",
     "text": [
      "Accuracy: 0.9975932611311673\n",
      "              precision    recall  f1-score   support\n",
      "\n",
      "           0       0.99      1.00      0.99       354\n",
      "           1       1.00      1.00      1.00      1308\n",
      "\n",
      "    accuracy                           1.00      1662\n",
      "   macro avg       0.99      1.00      1.00      1662\n",
      "weighted avg       1.00      1.00      1.00      1662\n",
      "\n",
      "[[ 354    0]\n",
      " [   4 1304]]\n"
     ]
    }
   ],
   "source": [
    "# by Support Vector Machine (SVM)\n",
    "svm_model = SVC(random_state=42)\n",
    "svm_model.fit(X_train_scaled, y_train)\n",
    "y_pred_svm = svm_model.predict(X_test_scaled)\n",
    "print(f\"Accuracy: {accuracy_score(y_test, y_pred_svm)}\")\n",
    "print(classification_report(y_test, y_pred_svm))\n",
    "print(confusion_matrix(y_test, y_pred_svm))"
   ]
  },
  {
   "cell_type": "code",
   "execution_count": 107,
   "id": "7a9663d4-f79a-464e-98a3-f7b7788ddfb9",
   "metadata": {},
   "outputs": [],
   "source": [
    "from sklearn.neighbors import KNeighborsClassifier"
   ]
  },
  {
   "cell_type": "code",
   "execution_count": 108,
   "id": "50daa5e6-d9d8-425d-9e53-e80f0f4202c6",
   "metadata": {},
   "outputs": [
    {
     "name": "stdout",
     "output_type": "stream",
     "text": [
      "Accuracy: 1.0\n",
      "              precision    recall  f1-score   support\n",
      "\n",
      "           0       1.00      1.00      1.00       354\n",
      "           1       1.00      1.00      1.00      1308\n",
      "\n",
      "    accuracy                           1.00      1662\n",
      "   macro avg       1.00      1.00      1.00      1662\n",
      "weighted avg       1.00      1.00      1.00      1662\n",
      "\n",
      "[[ 354    0]\n",
      " [   0 1308]]\n"
     ]
    }
   ],
   "source": [
    "## By KNN\n",
    "knn_model = KNeighborsClassifier()\n",
    "knn_model.fit(X_train_scaled, y_train)\n",
    "y_pred_knn = knn_model.predict(X_test_scaled)\n",
    "print(f\"Accuracy: {accuracy_score(y_test, y_pred_knn)}\")\n",
    "print(classification_report(y_test, y_pred_knn))\n",
    "print(confusion_matrix(y_test, y_pred_knn))"
   ]
  },
  {
   "cell_type": "code",
   "execution_count": 94,
   "id": "5e52ca6d-634b-4b92-8050-cca66bc23345",
   "metadata": {},
   "outputs": [],
   "source": [
    "## Finally i get i model which is performing extra ordinary over the entire test data."
   ]
  },
  {
   "cell_type": "code",
   "execution_count": null,
   "id": "9219a035-083d-407e-b342-a69084b33eb6",
   "metadata": {},
   "outputs": [],
   "source": []
  }
 ],
 "metadata": {
  "kernelspec": {
   "display_name": "Python 3 (ipykernel)",
   "language": "python",
   "name": "python3"
  },
  "language_info": {
   "codemirror_mode": {
    "name": "ipython",
    "version": 3
   },
   "file_extension": ".py",
   "mimetype": "text/x-python",
   "name": "python",
   "nbconvert_exporter": "python",
   "pygments_lexer": "ipython3",
   "version": "3.11.7"
  }
 },
 "nbformat": 4,
 "nbformat_minor": 5
}
